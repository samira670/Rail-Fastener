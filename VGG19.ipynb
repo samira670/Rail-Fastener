{
  "cells": [
    {
      "cell_type": "code",
      "execution_count": null,
      "metadata": {
        "id": "pWCymE0_1m7V",
        "colab": {
          "base_uri": "https://localhost:8080/"
        },
        "outputId": "8fc2a66e-0f01-4b3a-e70e-6776f8d7b3a6"
      },
      "outputs": [
        {
          "output_type": "stream",
          "name": "stdout",
          "text": [
            "Mounted at /content/drive\n"
          ]
        }
      ],
      "source": [
        "from google.colab import drive\n",
        "drive.mount('/content/drive', force_remount=True)\n"
      ]
    },
    {
      "cell_type": "code",
      "source": [
        "!cp -r \"/content/drive/MyDrive/Dataset\" \"/content/\"\n"
      ],
      "metadata": {
        "id": "qw1xi5W-6Bvp"
      },
      "execution_count": null,
      "outputs": []
    },
    {
      "cell_type": "code",
      "execution_count": null,
      "metadata": {
        "id": "_PR1oT5tU3a-",
        "colab": {
          "base_uri": "https://localhost:8080/"
        },
        "outputId": "87c856ef-63c8-49e3-9fff-115d7d6000a0"
      },
      "outputs": [
        {
          "output_type": "stream",
          "name": "stdout",
          "text": [
            "Collecting datasets\n",
            "  Downloading datasets-2.14.5-py3-none-any.whl (519 kB)\n",
            "\u001b[2K     \u001b[90m━━━━━━━━━━━━━━━━━━━━━━━━━━━━━━━━━━━━━━━\u001b[0m \u001b[32m519.6/519.6 kB\u001b[0m \u001b[31m7.3 MB/s\u001b[0m eta \u001b[36m0:00:00\u001b[0m\n",
            "\u001b[?25hRequirement already satisfied: numpy>=1.17 in /usr/local/lib/python3.10/dist-packages (from datasets) (1.23.5)\n",
            "Requirement already satisfied: pyarrow>=8.0.0 in /usr/local/lib/python3.10/dist-packages (from datasets) (9.0.0)\n",
            "Collecting dill<0.3.8,>=0.3.0 (from datasets)\n",
            "  Downloading dill-0.3.7-py3-none-any.whl (115 kB)\n",
            "\u001b[2K     \u001b[90m━━━━━━━━━━━━━━━━━━━━━━━━━━━━━━━━━━━━━━━\u001b[0m \u001b[32m115.3/115.3 kB\u001b[0m \u001b[31m9.0 MB/s\u001b[0m eta \u001b[36m0:00:00\u001b[0m\n",
            "\u001b[?25hRequirement already satisfied: pandas in /usr/local/lib/python3.10/dist-packages (from datasets) (1.5.3)\n",
            "Requirement already satisfied: requests>=2.19.0 in /usr/local/lib/python3.10/dist-packages (from datasets) (2.31.0)\n",
            "Requirement already satisfied: tqdm>=4.62.1 in /usr/local/lib/python3.10/dist-packages (from datasets) (4.66.1)\n",
            "Collecting xxhash (from datasets)\n",
            "  Downloading xxhash-3.3.0-cp310-cp310-manylinux_2_17_x86_64.manylinux2014_x86_64.whl (194 kB)\n",
            "\u001b[2K     \u001b[90m━━━━━━━━━━━━━━━━━━━━━━━━━━━━━━━━━━━━━━\u001b[0m \u001b[32m194.1/194.1 kB\u001b[0m \u001b[31m11.0 MB/s\u001b[0m eta \u001b[36m0:00:00\u001b[0m\n",
            "\u001b[?25hCollecting multiprocess (from datasets)\n",
            "  Downloading multiprocess-0.70.15-py310-none-any.whl (134 kB)\n",
            "\u001b[2K     \u001b[90m━━━━━━━━━━━━━━━━━━━━━━━━━━━━━━━━━━━━━━\u001b[0m \u001b[32m134.8/134.8 kB\u001b[0m \u001b[31m10.4 MB/s\u001b[0m eta \u001b[36m0:00:00\u001b[0m\n",
            "\u001b[?25hRequirement already satisfied: fsspec[http]<2023.9.0,>=2023.1.0 in /usr/local/lib/python3.10/dist-packages (from datasets) (2023.6.0)\n",
            "Requirement already satisfied: aiohttp in /usr/local/lib/python3.10/dist-packages (from datasets) (3.8.5)\n",
            "Collecting huggingface-hub<1.0.0,>=0.14.0 (from datasets)\n",
            "  Downloading huggingface_hub-0.17.2-py3-none-any.whl (294 kB)\n",
            "\u001b[2K     \u001b[90m━━━━━━━━━━━━━━━━━━━━━━━━━━━━━━━━━━━━━━\u001b[0m \u001b[32m294.9/294.9 kB\u001b[0m \u001b[31m15.4 MB/s\u001b[0m eta \u001b[36m0:00:00\u001b[0m\n",
            "\u001b[?25hRequirement already satisfied: packaging in /usr/local/lib/python3.10/dist-packages (from datasets) (23.1)\n",
            "Requirement already satisfied: pyyaml>=5.1 in /usr/local/lib/python3.10/dist-packages (from datasets) (6.0.1)\n",
            "Requirement already satisfied: attrs>=17.3.0 in /usr/local/lib/python3.10/dist-packages (from aiohttp->datasets) (23.1.0)\n",
            "Requirement already satisfied: charset-normalizer<4.0,>=2.0 in /usr/local/lib/python3.10/dist-packages (from aiohttp->datasets) (3.2.0)\n",
            "Requirement already satisfied: multidict<7.0,>=4.5 in /usr/local/lib/python3.10/dist-packages (from aiohttp->datasets) (6.0.4)\n",
            "Requirement already satisfied: async-timeout<5.0,>=4.0.0a3 in /usr/local/lib/python3.10/dist-packages (from aiohttp->datasets) (4.0.3)\n",
            "Requirement already satisfied: yarl<2.0,>=1.0 in /usr/local/lib/python3.10/dist-packages (from aiohttp->datasets) (1.9.2)\n",
            "Requirement already satisfied: frozenlist>=1.1.1 in /usr/local/lib/python3.10/dist-packages (from aiohttp->datasets) (1.4.0)\n",
            "Requirement already satisfied: aiosignal>=1.1.2 in /usr/local/lib/python3.10/dist-packages (from aiohttp->datasets) (1.3.1)\n",
            "Requirement already satisfied: filelock in /usr/local/lib/python3.10/dist-packages (from huggingface-hub<1.0.0,>=0.14.0->datasets) (3.12.2)\n",
            "Requirement already satisfied: typing-extensions>=3.7.4.3 in /usr/local/lib/python3.10/dist-packages (from huggingface-hub<1.0.0,>=0.14.0->datasets) (4.5.0)\n",
            "Requirement already satisfied: idna<4,>=2.5 in /usr/local/lib/python3.10/dist-packages (from requests>=2.19.0->datasets) (3.4)\n",
            "Requirement already satisfied: urllib3<3,>=1.21.1 in /usr/local/lib/python3.10/dist-packages (from requests>=2.19.0->datasets) (2.0.4)\n",
            "Requirement already satisfied: certifi>=2017.4.17 in /usr/local/lib/python3.10/dist-packages (from requests>=2.19.0->datasets) (2023.7.22)\n",
            "Requirement already satisfied: python-dateutil>=2.8.1 in /usr/local/lib/python3.10/dist-packages (from pandas->datasets) (2.8.2)\n",
            "Requirement already satisfied: pytz>=2020.1 in /usr/local/lib/python3.10/dist-packages (from pandas->datasets) (2023.3.post1)\n",
            "Requirement already satisfied: six>=1.5 in /usr/local/lib/python3.10/dist-packages (from python-dateutil>=2.8.1->pandas->datasets) (1.16.0)\n",
            "Installing collected packages: xxhash, dill, multiprocess, huggingface-hub, datasets\n",
            "Successfully installed datasets-2.14.5 dill-0.3.7 huggingface-hub-0.17.2 multiprocess-0.70.15 xxhash-3.3.0\n"
          ]
        }
      ],
      "source": [
        "!pip install datasets\n"
      ]
    },
    {
      "cell_type": "code",
      "execution_count": null,
      "metadata": {
        "id": "vNP-qx1IcjE_",
        "colab": {
          "base_uri": "https://localhost:8080/"
        },
        "outputId": "64652918-c8a8-47d0-c013-84cc88cdb8ec"
      },
      "outputs": [
        {
          "output_type": "stream",
          "name": "stdout",
          "text": [
            "Collecting transformers\n",
            "  Downloading transformers-4.33.2-py3-none-any.whl (7.6 MB)\n",
            "\u001b[2K     \u001b[90m━━━━━━━━━━━━━━━━━━━━━━━━━━━━━━━━━━━━━━━━\u001b[0m \u001b[32m7.6/7.6 MB\u001b[0m \u001b[31m28.4 MB/s\u001b[0m eta \u001b[36m0:00:00\u001b[0m\n",
            "\u001b[?25hRequirement already satisfied: filelock in /usr/local/lib/python3.10/dist-packages (from transformers) (3.12.2)\n",
            "Requirement already satisfied: huggingface-hub<1.0,>=0.15.1 in /usr/local/lib/python3.10/dist-packages (from transformers) (0.17.2)\n",
            "Requirement already satisfied: numpy>=1.17 in /usr/local/lib/python3.10/dist-packages (from transformers) (1.23.5)\n",
            "Requirement already satisfied: packaging>=20.0 in /usr/local/lib/python3.10/dist-packages (from transformers) (23.1)\n",
            "Requirement already satisfied: pyyaml>=5.1 in /usr/local/lib/python3.10/dist-packages (from transformers) (6.0.1)\n",
            "Requirement already satisfied: regex!=2019.12.17 in /usr/local/lib/python3.10/dist-packages (from transformers) (2023.6.3)\n",
            "Requirement already satisfied: requests in /usr/local/lib/python3.10/dist-packages (from transformers) (2.31.0)\n",
            "Collecting tokenizers!=0.11.3,<0.14,>=0.11.1 (from transformers)\n",
            "  Downloading tokenizers-0.13.3-cp310-cp310-manylinux_2_17_x86_64.manylinux2014_x86_64.whl (7.8 MB)\n",
            "\u001b[2K     \u001b[90m━━━━━━━━━━━━━━━━━━━━━━━━━━━━━━━━━━━━━━━━\u001b[0m \u001b[32m7.8/7.8 MB\u001b[0m \u001b[31m85.2 MB/s\u001b[0m eta \u001b[36m0:00:00\u001b[0m\n",
            "\u001b[?25hCollecting safetensors>=0.3.1 (from transformers)\n",
            "  Downloading safetensors-0.3.3-cp310-cp310-manylinux_2_17_x86_64.manylinux2014_x86_64.whl (1.3 MB)\n",
            "\u001b[2K     \u001b[90m━━━━━━━━━━━━━━━━━━━━━━━━━━━━━━━━━━━━━━━━\u001b[0m \u001b[32m1.3/1.3 MB\u001b[0m \u001b[31m75.5 MB/s\u001b[0m eta \u001b[36m0:00:00\u001b[0m\n",
            "\u001b[?25hRequirement already satisfied: tqdm>=4.27 in /usr/local/lib/python3.10/dist-packages (from transformers) (4.66.1)\n",
            "Requirement already satisfied: fsspec in /usr/local/lib/python3.10/dist-packages (from huggingface-hub<1.0,>=0.15.1->transformers) (2023.6.0)\n",
            "Requirement already satisfied: typing-extensions>=3.7.4.3 in /usr/local/lib/python3.10/dist-packages (from huggingface-hub<1.0,>=0.15.1->transformers) (4.5.0)\n",
            "Requirement already satisfied: charset-normalizer<4,>=2 in /usr/local/lib/python3.10/dist-packages (from requests->transformers) (3.2.0)\n",
            "Requirement already satisfied: idna<4,>=2.5 in /usr/local/lib/python3.10/dist-packages (from requests->transformers) (3.4)\n",
            "Requirement already satisfied: urllib3<3,>=1.21.1 in /usr/local/lib/python3.10/dist-packages (from requests->transformers) (2.0.4)\n",
            "Requirement already satisfied: certifi>=2017.4.17 in /usr/local/lib/python3.10/dist-packages (from requests->transformers) (2023.7.22)\n",
            "Installing collected packages: tokenizers, safetensors, transformers\n",
            "Successfully installed safetensors-0.3.3 tokenizers-0.13.3 transformers-4.33.2\n"
          ]
        }
      ],
      "source": [
        "!pip install transformers"
      ]
    },
    {
      "cell_type": "code",
      "execution_count": null,
      "metadata": {
        "id": "jTzw4VtDVTdU",
        "colab": {
          "base_uri": "https://localhost:8080/"
        },
        "outputId": "c819b89f-60ff-4051-a6cf-219e57dcc331"
      },
      "outputs": [
        {
          "output_type": "stream",
          "name": "stdout",
          "text": [
            "Requirement already satisfied: transformers in /usr/local/lib/python3.10/dist-packages (4.33.2)\n",
            "Requirement already satisfied: filelock in /usr/local/lib/python3.10/dist-packages (from transformers) (3.12.2)\n",
            "Requirement already satisfied: huggingface-hub<1.0,>=0.15.1 in /usr/local/lib/python3.10/dist-packages (from transformers) (0.17.2)\n",
            "Requirement already satisfied: numpy>=1.17 in /usr/local/lib/python3.10/dist-packages (from transformers) (1.23.5)\n",
            "Requirement already satisfied: packaging>=20.0 in /usr/local/lib/python3.10/dist-packages (from transformers) (23.1)\n",
            "Requirement already satisfied: pyyaml>=5.1 in /usr/local/lib/python3.10/dist-packages (from transformers) (6.0.1)\n",
            "Requirement already satisfied: regex!=2019.12.17 in /usr/local/lib/python3.10/dist-packages (from transformers) (2023.6.3)\n",
            "Requirement already satisfied: requests in /usr/local/lib/python3.10/dist-packages (from transformers) (2.31.0)\n",
            "Requirement already satisfied: tokenizers!=0.11.3,<0.14,>=0.11.1 in /usr/local/lib/python3.10/dist-packages (from transformers) (0.13.3)\n",
            "Requirement already satisfied: safetensors>=0.3.1 in /usr/local/lib/python3.10/dist-packages (from transformers) (0.3.3)\n",
            "Requirement already satisfied: tqdm>=4.27 in /usr/local/lib/python3.10/dist-packages (from transformers) (4.66.1)\n",
            "Requirement already satisfied: fsspec in /usr/local/lib/python3.10/dist-packages (from huggingface-hub<1.0,>=0.15.1->transformers) (2023.6.0)\n",
            "Requirement already satisfied: typing-extensions>=3.7.4.3 in /usr/local/lib/python3.10/dist-packages (from huggingface-hub<1.0,>=0.15.1->transformers) (4.5.0)\n",
            "Requirement already satisfied: charset-normalizer<4,>=2 in /usr/local/lib/python3.10/dist-packages (from requests->transformers) (3.2.0)\n",
            "Requirement already satisfied: idna<4,>=2.5 in /usr/local/lib/python3.10/dist-packages (from requests->transformers) (3.4)\n",
            "Requirement already satisfied: urllib3<3,>=1.21.1 in /usr/local/lib/python3.10/dist-packages (from requests->transformers) (2.0.4)\n",
            "Requirement already satisfied: certifi>=2017.4.17 in /usr/local/lib/python3.10/dist-packages (from requests->transformers) (2023.7.22)\n"
          ]
        }
      ],
      "source": [
        "!pip install --upgrade transformers\n"
      ]
    },
    {
      "cell_type": "code",
      "source": [
        "!pip install timm\n"
      ],
      "metadata": {
        "id": "TTLx8xd4kfAM",
        "colab": {
          "base_uri": "https://localhost:8080/"
        },
        "outputId": "837a372f-62a4-4a4a-b818-efdd866f0ef5"
      },
      "execution_count": null,
      "outputs": [
        {
          "output_type": "stream",
          "name": "stdout",
          "text": [
            "Collecting timm\n",
            "  Downloading timm-0.9.7-py3-none-any.whl (2.2 MB)\n",
            "\u001b[2K     \u001b[90m━━━━━━━━━━━━━━━━━━━━━━━━━━━━━━━━━━━━━━━━\u001b[0m \u001b[32m2.2/2.2 MB\u001b[0m \u001b[31m15.7 MB/s\u001b[0m eta \u001b[36m0:00:00\u001b[0m\n",
            "\u001b[?25hRequirement already satisfied: torch>=1.7 in /usr/local/lib/python3.10/dist-packages (from timm) (2.0.1+cu118)\n",
            "Requirement already satisfied: torchvision in /usr/local/lib/python3.10/dist-packages (from timm) (0.15.2+cu118)\n",
            "Requirement already satisfied: pyyaml in /usr/local/lib/python3.10/dist-packages (from timm) (6.0.1)\n",
            "Requirement already satisfied: huggingface-hub in /usr/local/lib/python3.10/dist-packages (from timm) (0.17.2)\n",
            "Requirement already satisfied: safetensors in /usr/local/lib/python3.10/dist-packages (from timm) (0.3.3)\n",
            "Requirement already satisfied: filelock in /usr/local/lib/python3.10/dist-packages (from torch>=1.7->timm) (3.12.2)\n",
            "Requirement already satisfied: typing-extensions in /usr/local/lib/python3.10/dist-packages (from torch>=1.7->timm) (4.5.0)\n",
            "Requirement already satisfied: sympy in /usr/local/lib/python3.10/dist-packages (from torch>=1.7->timm) (1.12)\n",
            "Requirement already satisfied: networkx in /usr/local/lib/python3.10/dist-packages (from torch>=1.7->timm) (3.1)\n",
            "Requirement already satisfied: jinja2 in /usr/local/lib/python3.10/dist-packages (from torch>=1.7->timm) (3.1.2)\n",
            "Requirement already satisfied: triton==2.0.0 in /usr/local/lib/python3.10/dist-packages (from torch>=1.7->timm) (2.0.0)\n",
            "Requirement already satisfied: cmake in /usr/local/lib/python3.10/dist-packages (from triton==2.0.0->torch>=1.7->timm) (3.27.4.1)\n",
            "Requirement already satisfied: lit in /usr/local/lib/python3.10/dist-packages (from triton==2.0.0->torch>=1.7->timm) (16.0.6)\n",
            "Requirement already satisfied: fsspec in /usr/local/lib/python3.10/dist-packages (from huggingface-hub->timm) (2023.6.0)\n",
            "Requirement already satisfied: requests in /usr/local/lib/python3.10/dist-packages (from huggingface-hub->timm) (2.31.0)\n",
            "Requirement already satisfied: tqdm>=4.42.1 in /usr/local/lib/python3.10/dist-packages (from huggingface-hub->timm) (4.66.1)\n",
            "Requirement already satisfied: packaging>=20.9 in /usr/local/lib/python3.10/dist-packages (from huggingface-hub->timm) (23.1)\n",
            "Requirement already satisfied: numpy in /usr/local/lib/python3.10/dist-packages (from torchvision->timm) (1.23.5)\n",
            "Requirement already satisfied: pillow!=8.3.*,>=5.3.0 in /usr/local/lib/python3.10/dist-packages (from torchvision->timm) (9.4.0)\n",
            "Requirement already satisfied: MarkupSafe>=2.0 in /usr/local/lib/python3.10/dist-packages (from jinja2->torch>=1.7->timm) (2.1.3)\n",
            "Requirement already satisfied: charset-normalizer<4,>=2 in /usr/local/lib/python3.10/dist-packages (from requests->huggingface-hub->timm) (3.2.0)\n",
            "Requirement already satisfied: idna<4,>=2.5 in /usr/local/lib/python3.10/dist-packages (from requests->huggingface-hub->timm) (3.4)\n",
            "Requirement already satisfied: urllib3<3,>=1.21.1 in /usr/local/lib/python3.10/dist-packages (from requests->huggingface-hub->timm) (2.0.4)\n",
            "Requirement already satisfied: certifi>=2017.4.17 in /usr/local/lib/python3.10/dist-packages (from requests->huggingface-hub->timm) (2023.7.22)\n",
            "Requirement already satisfied: mpmath>=0.19 in /usr/local/lib/python3.10/dist-packages (from sympy->torch>=1.7->timm) (1.3.0)\n",
            "Installing collected packages: timm\n",
            "Successfully installed timm-0.9.7\n"
          ]
        }
      ]
    },
    {
      "cell_type": "code",
      "execution_count": null,
      "metadata": {
        "id": "rl-XkNw_1jGT",
        "colab": {
          "base_uri": "https://localhost:8080/",
          "height": 1000
        },
        "outputId": "db16c657-9348-4de9-e387-08b1621aef11"
      },
      "outputs": [
        {
          "output_type": "stream",
          "name": "stdout",
          "text": [
            "FOLD 1\n"
          ]
        },
        {
          "output_type": "stream",
          "name": "stderr",
          "text": [
            "/usr/local/lib/python3.10/dist-packages/torchvision/models/_utils.py:208: UserWarning: The parameter 'pretrained' is deprecated since 0.13 and may be removed in the future, please use 'weights' instead.\n",
            "  warnings.warn(\n",
            "/usr/local/lib/python3.10/dist-packages/torchvision/models/_utils.py:223: UserWarning: Arguments other than a weight enum or `None` for 'weights' are deprecated since 0.13 and may be removed in the future. The current behavior is equivalent to passing `weights=VGG19_Weights.IMAGENET1K_V1`. You can also use `weights=VGG19_Weights.DEFAULT` to get the most up-to-date weights.\n",
            "  warnings.warn(msg)\n",
            "Downloading: \"https://download.pytorch.org/models/vgg19-dcbb9e9d.pth\" to /root/.cache/torch/hub/checkpoints/vgg19-dcbb9e9d.pth\n",
            "100%|██████████| 548M/548M [00:01<00:00, 408MB/s]\n"
          ]
        },
        {
          "output_type": "stream",
          "name": "stdout",
          "text": [
            "Epoch [1/10] Training Loss: 0.0183, Training Accuracy: 0.6947, Training Precision: 0.6946, Training Recall: 0.6947, Training F1: 0.6943, Validation Loss: 0.0140, Validation Accuracy: 0.7952, Validation Precision: 0.8544, Validation Recall: 0.7952, Validation F1: 0.7924\n",
            "Epoch [2/10] Training Loss: 0.0110, Training Accuracy: 0.8422, Training Precision: 0.8432, Training Recall: 0.8422, Training F1: 0.8419, Validation Loss: 0.0098, Validation Accuracy: 0.8762, Validation Precision: 0.9035, Validation Recall: 0.8762, Validation F1: 0.8762\n",
            "Epoch [3/10] Training Loss: 0.0055, Training Accuracy: 0.9285, Training Precision: 0.9285, Training Recall: 0.9285, Training F1: 0.9285, Validation Loss: 0.0110, Validation Accuracy: 0.8667, Validation Precision: 0.8864, Validation Recall: 0.8667, Validation F1: 0.8669\n",
            "Epoch [4/10] Training Loss: 0.0052, Training Accuracy: 0.9353, Training Precision: 0.9359, Training Recall: 0.9353, Training F1: 0.9352, Validation Loss: 0.0032, Validation Accuracy: 0.9619, Validation Precision: 0.9619, Validation Recall: 0.9619, Validation F1: 0.9619\n",
            "Epoch [5/10] Training Loss: 0.0024, Training Accuracy: 0.9728, Training Precision: 0.9728, Training Recall: 0.9728, Training F1: 0.9728, Validation Loss: 0.0031, Validation Accuracy: 0.9714, Validation Precision: 0.9720, Validation Recall: 0.9714, Validation F1: 0.9713\n",
            "Epoch [6/10] Training Loss: 0.0005, Training Accuracy: 0.9966, Training Precision: 0.9966, Training Recall: 0.9966, Training F1: 0.9966, Validation Loss: 0.0046, Validation Accuracy: 0.9619, Validation Precision: 0.9650, Validation Recall: 0.9619, Validation F1: 0.9620\n",
            "Epoch [7/10] Training Loss: 0.0002, Training Accuracy: 1.0000, Training Precision: 1.0000, Training Recall: 1.0000, Training F1: 1.0000, Validation Loss: 0.0031, Validation Accuracy: 0.9762, Validation Precision: 0.9767, Validation Recall: 0.9762, Validation F1: 0.9762\n",
            "Epoch [8/10] Training Loss: 0.0001, Training Accuracy: 1.0000, Training Precision: 1.0000, Training Recall: 1.0000, Training F1: 1.0000, Validation Loss: 0.0033, Validation Accuracy: 0.9762, Validation Precision: 0.9767, Validation Recall: 0.9762, Validation F1: 0.9762\n",
            "Epoch [9/10] Training Loss: 0.0000, Training Accuracy: 1.0000, Training Precision: 1.0000, Training Recall: 1.0000, Training F1: 1.0000, Validation Loss: 0.0033, Validation Accuracy: 0.9762, Validation Precision: 0.9767, Validation Recall: 0.9762, Validation F1: 0.9762\n",
            "Epoch [10/10] Training Loss: 0.0000, Training Accuracy: 1.0000, Training Precision: 1.0000, Training Recall: 1.0000, Training F1: 1.0000, Validation Loss: 0.0034, Validation Accuracy: 0.9762, Validation Precision: 0.9767, Validation Recall: 0.9762, Validation F1: 0.9762\n",
            "FOLD 2\n"
          ]
        },
        {
          "output_type": "stream",
          "name": "stderr",
          "text": [
            "/usr/local/lib/python3.10/dist-packages/torchvision/models/_utils.py:208: UserWarning: The parameter 'pretrained' is deprecated since 0.13 and may be removed in the future, please use 'weights' instead.\n",
            "  warnings.warn(\n",
            "/usr/local/lib/python3.10/dist-packages/torchvision/models/_utils.py:223: UserWarning: Arguments other than a weight enum or `None` for 'weights' are deprecated since 0.13 and may be removed in the future. The current behavior is equivalent to passing `weights=VGG19_Weights.IMAGENET1K_V1`. You can also use `weights=VGG19_Weights.DEFAULT` to get the most up-to-date weights.\n",
            "  warnings.warn(msg)\n"
          ]
        },
        {
          "output_type": "stream",
          "name": "stdout",
          "text": [
            "Epoch [1/10] Training Loss: 0.0214, Training Accuracy: 0.6118, Training Precision: 0.6124, Training Recall: 0.6118, Training F1: 0.6084, Validation Loss: 0.0184, Validation Accuracy: 0.7952, Validation Precision: 0.8367, Validation Recall: 0.7952, Validation F1: 0.7822\n",
            "Epoch [2/10] Training Loss: 0.0151, Training Accuracy: 0.7877, Training Precision: 0.7883, Training Recall: 0.7877, Training F1: 0.7878, Validation Loss: 0.0095, Validation Accuracy: 0.8524, Validation Precision: 0.8640, Validation Recall: 0.8524, Validation F1: 0.8489\n",
            "Epoch [3/10] Training Loss: 0.0090, Training Accuracy: 0.8672, Training Precision: 0.8674, Training Recall: 0.8672, Training F1: 0.8672, Validation Loss: 0.0066, Validation Accuracy: 0.9095, Validation Precision: 0.9097, Validation Recall: 0.9095, Validation F1: 0.9096\n",
            "Epoch [4/10] Training Loss: 0.0049, Training Accuracy: 0.9364, Training Precision: 0.9364, Training Recall: 0.9364, Training F1: 0.9364, Validation Loss: 0.0160, Validation Accuracy: 0.7810, Validation Precision: 0.8474, Validation Recall: 0.7810, Validation F1: 0.7770\n",
            "Epoch [5/10] Training Loss: 0.0047, Training Accuracy: 0.9387, Training Precision: 0.9388, Training Recall: 0.9387, Training F1: 0.9387, Validation Loss: 0.0031, Validation Accuracy: 0.9524, Validation Precision: 0.9528, Validation Recall: 0.9524, Validation F1: 0.9522\n",
            "Epoch [6/10] Training Loss: 0.0006, Training Accuracy: 0.9943, Training Precision: 0.9943, Training Recall: 0.9943, Training F1: 0.9943, Validation Loss: 0.0027, Validation Accuracy: 0.9571, Validation Precision: 0.9571, Validation Recall: 0.9571, Validation F1: 0.9571\n",
            "Epoch [7/10] Training Loss: 0.0003, Training Accuracy: 0.9989, Training Precision: 0.9989, Training Recall: 0.9989, Training F1: 0.9989, Validation Loss: 0.0034, Validation Accuracy: 0.9667, Validation Precision: 0.9685, Validation Recall: 0.9667, Validation F1: 0.9665\n",
            "Epoch [8/10] Training Loss: 0.0002, Training Accuracy: 0.9977, Training Precision: 0.9977, Training Recall: 0.9977, Training F1: 0.9977, Validation Loss: 0.0025, Validation Accuracy: 0.9619, Validation Precision: 0.9622, Validation Recall: 0.9619, Validation F1: 0.9619\n",
            "Epoch [9/10] Training Loss: 0.0001, Training Accuracy: 1.0000, Training Precision: 1.0000, Training Recall: 1.0000, Training F1: 1.0000, Validation Loss: 0.0024, Validation Accuracy: 0.9714, Validation Precision: 0.9715, Validation Recall: 0.9714, Validation F1: 0.9714\n",
            "Epoch [10/10] Training Loss: 0.0000, Training Accuracy: 1.0000, Training Precision: 1.0000, Training Recall: 1.0000, Training F1: 1.0000, Validation Loss: 0.0024, Validation Accuracy: 0.9714, Validation Precision: 0.9715, Validation Recall: 0.9714, Validation F1: 0.9714\n",
            "FOLD 3\n"
          ]
        },
        {
          "output_type": "stream",
          "name": "stderr",
          "text": [
            "/usr/local/lib/python3.10/dist-packages/torchvision/models/_utils.py:208: UserWarning: The parameter 'pretrained' is deprecated since 0.13 and may be removed in the future, please use 'weights' instead.\n",
            "  warnings.warn(\n",
            "/usr/local/lib/python3.10/dist-packages/torchvision/models/_utils.py:223: UserWarning: Arguments other than a weight enum or `None` for 'weights' are deprecated since 0.13 and may be removed in the future. The current behavior is equivalent to passing `weights=VGG19_Weights.IMAGENET1K_V1`. You can also use `weights=VGG19_Weights.DEFAULT` to get the most up-to-date weights.\n",
            "  warnings.warn(msg)\n"
          ]
        },
        {
          "output_type": "stream",
          "name": "stdout",
          "text": [
            "Epoch [1/10] Training Loss: 0.0201, Training Accuracy: 0.6765, Training Precision: 0.6778, Training Recall: 0.6765, Training F1: 0.6750, Validation Loss: 0.0138, Validation Accuracy: 0.8048, Validation Precision: 0.8249, Validation Recall: 0.8048, Validation F1: 0.8051\n",
            "Epoch [2/10] Training Loss: 0.0115, Training Accuracy: 0.8422, Training Precision: 0.8434, Training Recall: 0.8422, Training F1: 0.8419, Validation Loss: 0.0112, Validation Accuracy: 0.8381, Validation Precision: 0.8743, Validation Recall: 0.8381, Validation F1: 0.8299\n",
            "Epoch [3/10] Training Loss: 0.0094, Training Accuracy: 0.8751, Training Precision: 0.8752, Training Recall: 0.8751, Training F1: 0.8751, Validation Loss: 0.0118, Validation Accuracy: 0.8429, Validation Precision: 0.8796, Validation Recall: 0.8429, Validation F1: 0.8423\n",
            "Epoch [4/10] Training Loss: 0.0048, Training Accuracy: 0.9342, Training Precision: 0.9350, Training Recall: 0.9342, Training F1: 0.9341, Validation Loss: 0.0079, Validation Accuracy: 0.9095, Validation Precision: 0.9250, Validation Recall: 0.9095, Validation F1: 0.9098\n",
            "Epoch [5/10] Training Loss: 0.0032, Training Accuracy: 0.9625, Training Precision: 0.9627, Training Recall: 0.9625, Training F1: 0.9625, Validation Loss: 0.0070, Validation Accuracy: 0.9190, Validation Precision: 0.9247, Validation Recall: 0.9190, Validation F1: 0.9194\n",
            "Epoch [6/10] Training Loss: 0.0017, Training Accuracy: 0.9852, Training Precision: 0.9852, Training Recall: 0.9852, Training F1: 0.9852, Validation Loss: 0.0086, Validation Accuracy: 0.9095, Validation Precision: 0.9195, Validation Recall: 0.9095, Validation F1: 0.9099\n",
            "Epoch [7/10] Training Loss: 0.0006, Training Accuracy: 0.9966, Training Precision: 0.9966, Training Recall: 0.9966, Training F1: 0.9966, Validation Loss: 0.0058, Validation Accuracy: 0.9429, Validation Precision: 0.9460, Validation Recall: 0.9429, Validation F1: 0.9430\n",
            "Epoch [8/10] Training Loss: 0.0002, Training Accuracy: 1.0000, Training Precision: 1.0000, Training Recall: 1.0000, Training F1: 1.0000, Validation Loss: 0.0059, Validation Accuracy: 0.9381, Validation Precision: 0.9420, Validation Recall: 0.9381, Validation F1: 0.9383\n",
            "Epoch [9/10] Training Loss: 0.0001, Training Accuracy: 1.0000, Training Precision: 1.0000, Training Recall: 1.0000, Training F1: 1.0000, Validation Loss: 0.0064, Validation Accuracy: 0.9381, Validation Precision: 0.9420, Validation Recall: 0.9381, Validation F1: 0.9383\n",
            "Epoch [10/10] Training Loss: 0.0001, Training Accuracy: 1.0000, Training Precision: 1.0000, Training Recall: 1.0000, Training F1: 1.0000, Validation Loss: 0.0064, Validation Accuracy: 0.9381, Validation Precision: 0.9420, Validation Recall: 0.9381, Validation F1: 0.9383\n",
            "FOLD 4\n"
          ]
        },
        {
          "output_type": "stream",
          "name": "stderr",
          "text": [
            "/usr/local/lib/python3.10/dist-packages/torchvision/models/_utils.py:208: UserWarning: The parameter 'pretrained' is deprecated since 0.13 and may be removed in the future, please use 'weights' instead.\n",
            "  warnings.warn(\n",
            "/usr/local/lib/python3.10/dist-packages/torchvision/models/_utils.py:223: UserWarning: Arguments other than a weight enum or `None` for 'weights' are deprecated since 0.13 and may be removed in the future. The current behavior is equivalent to passing `weights=VGG19_Weights.IMAGENET1K_V1`. You can also use `weights=VGG19_Weights.DEFAULT` to get the most up-to-date weights.\n",
            "  warnings.warn(msg)\n"
          ]
        },
        {
          "output_type": "stream",
          "name": "stdout",
          "text": [
            "Epoch [1/10] Training Loss: 0.0181, Training Accuracy: 0.7015, Training Precision: 0.7025, Training Recall: 0.7015, Training F1: 0.7003, Validation Loss: 0.0124, Validation Accuracy: 0.8571, Validation Precision: 0.8923, Validation Recall: 0.8571, Validation F1: 0.8568\n",
            "Epoch [2/10] Training Loss: 0.0103, Training Accuracy: 0.8661, Training Precision: 0.8669, Training Recall: 0.8661, Training F1: 0.8658, Validation Loss: 0.0082, Validation Accuracy: 0.9048, Validation Precision: 0.9063, Validation Recall: 0.9048, Validation F1: 0.9042\n",
            "Epoch [3/10] Training Loss: 0.0063, Training Accuracy: 0.9319, Training Precision: 0.9320, Training Recall: 0.9319, Training F1: 0.9319, Validation Loss: 0.0108, Validation Accuracy: 0.8524, Validation Precision: 0.8896, Validation Recall: 0.8524, Validation F1: 0.8519\n",
            "Epoch [4/10] Training Loss: 0.0040, Training Accuracy: 0.9478, Training Precision: 0.9481, Training Recall: 0.9478, Training F1: 0.9478, Validation Loss: 0.0054, Validation Accuracy: 0.9429, Validation Precision: 0.9460, Validation Recall: 0.9429, Validation F1: 0.9430\n",
            "Epoch [5/10] Training Loss: 0.0017, Training Accuracy: 0.9807, Training Precision: 0.9808, Training Recall: 0.9807, Training F1: 0.9807, Validation Loss: 0.0056, Validation Accuracy: 0.9286, Validation Precision: 0.9300, Validation Recall: 0.9286, Validation F1: 0.9287\n",
            "Epoch [6/10] Training Loss: 0.0007, Training Accuracy: 0.9943, Training Precision: 0.9943, Training Recall: 0.9943, Training F1: 0.9943, Validation Loss: 0.0041, Validation Accuracy: 0.9571, Validation Precision: 0.9584, Validation Recall: 0.9571, Validation F1: 0.9572\n",
            "Epoch [7/10] Training Loss: 0.0001, Training Accuracy: 1.0000, Training Precision: 1.0000, Training Recall: 1.0000, Training F1: 1.0000, Validation Loss: 0.0042, Validation Accuracy: 0.9571, Validation Precision: 0.9584, Validation Recall: 0.9571, Validation F1: 0.9572\n",
            "Epoch [8/10] Training Loss: 0.0001, Training Accuracy: 1.0000, Training Precision: 1.0000, Training Recall: 1.0000, Training F1: 1.0000, Validation Loss: 0.0044, Validation Accuracy: 0.9619, Validation Precision: 0.9637, Validation Recall: 0.9619, Validation F1: 0.9620\n",
            "Epoch [9/10] Training Loss: 0.0001, Training Accuracy: 1.0000, Training Precision: 1.0000, Training Recall: 1.0000, Training F1: 1.0000, Validation Loss: 0.0045, Validation Accuracy: 0.9571, Validation Precision: 0.9595, Validation Recall: 0.9571, Validation F1: 0.9573\n",
            "Epoch [10/10] Training Loss: 0.0000, Training Accuracy: 1.0000, Training Precision: 1.0000, Training Recall: 1.0000, Training F1: 1.0000, Validation Loss: 0.0047, Validation Accuracy: 0.9571, Validation Precision: 0.9595, Validation Recall: 0.9571, Validation F1: 0.9573\n",
            "FOLD 5\n"
          ]
        },
        {
          "output_type": "stream",
          "name": "stderr",
          "text": [
            "/usr/local/lib/python3.10/dist-packages/torchvision/models/_utils.py:208: UserWarning: The parameter 'pretrained' is deprecated since 0.13 and may be removed in the future, please use 'weights' instead.\n",
            "  warnings.warn(\n",
            "/usr/local/lib/python3.10/dist-packages/torchvision/models/_utils.py:223: UserWarning: Arguments other than a weight enum or `None` for 'weights' are deprecated since 0.13 and may be removed in the future. The current behavior is equivalent to passing `weights=VGG19_Weights.IMAGENET1K_V1`. You can also use `weights=VGG19_Weights.DEFAULT` to get the most up-to-date weights.\n",
            "  warnings.warn(msg)\n"
          ]
        },
        {
          "output_type": "stream",
          "name": "stdout",
          "text": [
            "Epoch [1/10] Training Loss: 0.0170, Training Accuracy: 0.7185, Training Precision: 0.7189, Training Recall: 0.7185, Training F1: 0.7182, Validation Loss: 0.0104, Validation Accuracy: 0.8524, Validation Precision: 0.8521, Validation Recall: 0.8524, Validation F1: 0.8521\n",
            "Epoch [2/10] Training Loss: 0.0104, Training Accuracy: 0.8502, Training Precision: 0.8511, Training Recall: 0.8502, Training F1: 0.8500, Validation Loss: 0.0077, Validation Accuracy: 0.9143, Validation Precision: 0.9163, Validation Recall: 0.9143, Validation F1: 0.9145\n",
            "Epoch [3/10] Training Loss: 0.0081, Training Accuracy: 0.8933, Training Precision: 0.8942, Training Recall: 0.8933, Training F1: 0.8932, Validation Loss: 0.0056, Validation Accuracy: 0.9333, Validation Precision: 0.9337, Validation Recall: 0.9333, Validation F1: 0.9334\n",
            "Epoch [4/10] Training Loss: 0.0050, Training Accuracy: 0.9387, Training Precision: 0.9388, Training Recall: 0.9387, Training F1: 0.9387, Validation Loss: 0.0082, Validation Accuracy: 0.8905, Validation Precision: 0.9089, Validation Recall: 0.8905, Validation F1: 0.8907\n",
            "Epoch [5/10] Training Loss: 0.0025, Training Accuracy: 0.9716, Training Precision: 0.9717, Training Recall: 0.9716, Training F1: 0.9716, Validation Loss: 0.0059, Validation Accuracy: 0.9524, Validation Precision: 0.9524, Validation Recall: 0.9524, Validation F1: 0.9524\n",
            "Epoch [6/10] Training Loss: 0.0008, Training Accuracy: 0.9898, Training Precision: 0.9898, Training Recall: 0.9898, Training F1: 0.9898, Validation Loss: 0.0064, Validation Accuracy: 0.9571, Validation Precision: 0.9610, Validation Recall: 0.9571, Validation F1: 0.9573\n",
            "Epoch [7/10] Training Loss: 0.0001, Training Accuracy: 0.9989, Training Precision: 0.9989, Training Recall: 0.9989, Training F1: 0.9989, Validation Loss: 0.0076, Validation Accuracy: 0.9619, Validation Precision: 0.9650, Validation Recall: 0.9619, Validation F1: 0.9620\n",
            "Epoch [8/10] Training Loss: 0.0001, Training Accuracy: 1.0000, Training Precision: 1.0000, Training Recall: 1.0000, Training F1: 1.0000, Validation Loss: 0.0073, Validation Accuracy: 0.9619, Validation Precision: 0.9650, Validation Recall: 0.9619, Validation F1: 0.9620\n",
            "Epoch [9/10] Training Loss: 0.0001, Training Accuracy: 1.0000, Training Precision: 1.0000, Training Recall: 1.0000, Training F1: 1.0000, Validation Loss: 0.0071, Validation Accuracy: 0.9619, Validation Precision: 0.9650, Validation Recall: 0.9619, Validation F1: 0.9620\n",
            "Epoch [10/10] Training Loss: 0.0000, Training Accuracy: 1.0000, Training Precision: 1.0000, Training Recall: 1.0000, Training F1: 1.0000, Validation Loss: 0.0074, Validation Accuracy: 0.9619, Validation Precision: 0.9650, Validation Recall: 0.9619, Validation F1: 0.9620\n",
            "FOLD 6\n"
          ]
        },
        {
          "output_type": "stream",
          "name": "stderr",
          "text": [
            "/usr/local/lib/python3.10/dist-packages/torchvision/models/_utils.py:208: UserWarning: The parameter 'pretrained' is deprecated since 0.13 and may be removed in the future, please use 'weights' instead.\n",
            "  warnings.warn(\n",
            "/usr/local/lib/python3.10/dist-packages/torchvision/models/_utils.py:223: UserWarning: Arguments other than a weight enum or `None` for 'weights' are deprecated since 0.13 and may be removed in the future. The current behavior is equivalent to passing `weights=VGG19_Weights.IMAGENET1K_V1`. You can also use `weights=VGG19_Weights.DEFAULT` to get the most up-to-date weights.\n",
            "  warnings.warn(msg)\n"
          ]
        },
        {
          "output_type": "stream",
          "name": "stdout",
          "text": [
            "Epoch [1/10] Training Loss: 0.0195, Training Accuracy: 0.6413, Training Precision: 0.6424, Training Recall: 0.6413, Training F1: 0.6413, Validation Loss: 0.0134, Validation Accuracy: 0.8095, Validation Precision: 0.8253, Validation Recall: 0.8095, Validation F1: 0.8100\n",
            "Epoch [2/10] Training Loss: 0.0116, Training Accuracy: 0.8411, Training Precision: 0.8430, Training Recall: 0.8411, Training F1: 0.8406, Validation Loss: 0.0097, Validation Accuracy: 0.9190, Validation Precision: 0.9216, Validation Recall: 0.9190, Validation F1: 0.9193\n",
            "Epoch [3/10] Training Loss: 0.0068, Training Accuracy: 0.9103, Training Precision: 0.9113, Training Recall: 0.9103, Training F1: 0.9102, Validation Loss: 0.0087, Validation Accuracy: 0.9286, Validation Precision: 0.9325, Validation Recall: 0.9286, Validation F1: 0.9288\n",
            "Epoch [4/10] Training Loss: 0.0058, Training Accuracy: 0.9285, Training Precision: 0.9288, Training Recall: 0.9285, Training F1: 0.9284, Validation Loss: 0.0056, Validation Accuracy: 0.9381, Validation Precision: 0.9420, Validation Recall: 0.9381, Validation F1: 0.9383\n",
            "Epoch [5/10] Training Loss: 0.0037, Training Accuracy: 0.9603, Training Precision: 0.9603, Training Recall: 0.9603, Training F1: 0.9603, Validation Loss: 0.0053, Validation Accuracy: 0.9333, Validation Precision: 0.9333, Validation Recall: 0.9333, Validation F1: 0.9332\n",
            "Epoch [6/10] Training Loss: 0.0015, Training Accuracy: 0.9864, Training Precision: 0.9864, Training Recall: 0.9864, Training F1: 0.9864, Validation Loss: 0.0063, Validation Accuracy: 0.9524, Validation Precision: 0.9555, Validation Recall: 0.9524, Validation F1: 0.9525\n",
            "Epoch [7/10] Training Loss: 0.0005, Training Accuracy: 0.9989, Training Precision: 0.9989, Training Recall: 0.9989, Training F1: 0.9989, Validation Loss: 0.0056, Validation Accuracy: 0.9571, Validation Precision: 0.9595, Validation Recall: 0.9571, Validation F1: 0.9573\n",
            "Epoch [8/10] Training Loss: 0.0002, Training Accuracy: 0.9989, Training Precision: 0.9989, Training Recall: 0.9989, Training F1: 0.9989, Validation Loss: 0.0064, Validation Accuracy: 0.9571, Validation Precision: 0.9595, Validation Recall: 0.9571, Validation F1: 0.9573\n",
            "Epoch [9/10] Training Loss: 0.0001, Training Accuracy: 1.0000, Training Precision: 1.0000, Training Recall: 1.0000, Training F1: 1.0000, Validation Loss: 0.0068, Validation Accuracy: 0.9571, Validation Precision: 0.9595, Validation Recall: 0.9571, Validation F1: 0.9573\n",
            "Epoch [10/10] Training Loss: 0.0001, Training Accuracy: 1.0000, Training Precision: 1.0000, Training Recall: 1.0000, Training F1: 1.0000, Validation Loss: 0.0070, Validation Accuracy: 0.9571, Validation Precision: 0.9595, Validation Recall: 0.9571, Validation F1: 0.9573\n",
            "FOLD 7\n"
          ]
        },
        {
          "output_type": "stream",
          "name": "stderr",
          "text": [
            "/usr/local/lib/python3.10/dist-packages/torchvision/models/_utils.py:208: UserWarning: The parameter 'pretrained' is deprecated since 0.13 and may be removed in the future, please use 'weights' instead.\n",
            "  warnings.warn(\n",
            "/usr/local/lib/python3.10/dist-packages/torchvision/models/_utils.py:223: UserWarning: Arguments other than a weight enum or `None` for 'weights' are deprecated since 0.13 and may be removed in the future. The current behavior is equivalent to passing `weights=VGG19_Weights.IMAGENET1K_V1`. You can also use `weights=VGG19_Weights.DEFAULT` to get the most up-to-date weights.\n",
            "  warnings.warn(msg)\n"
          ]
        },
        {
          "output_type": "stream",
          "name": "stdout",
          "text": [
            "Epoch [1/10] Training Loss: 0.0165, Training Accuracy: 0.7299, Training Precision: 0.7336, Training Recall: 0.7299, Training F1: 0.7280, Validation Loss: 0.0097, Validation Accuracy: 0.8714, Validation Precision: 0.8730, Validation Recall: 0.8714, Validation F1: 0.8717\n",
            "Epoch [2/10] Training Loss: 0.0087, Training Accuracy: 0.8854, Training Precision: 0.8871, Training Recall: 0.8854, Training F1: 0.8851, Validation Loss: 0.0131, Validation Accuracy: 0.8286, Validation Precision: 0.8768, Validation Recall: 0.8286, Validation F1: 0.8272\n",
            "Epoch [3/10] Training Loss: 0.0057, Training Accuracy: 0.9285, Training Precision: 0.9298, Training Recall: 0.9285, Training F1: 0.9284, Validation Loss: 0.0145, Validation Accuracy: 0.8476, Validation Precision: 0.8823, Validation Recall: 0.8476, Validation F1: 0.8472\n",
            "Epoch [4/10] Training Loss: 0.0047, Training Accuracy: 0.9444, Training Precision: 0.9444, Training Recall: 0.9444, Training F1: 0.9444, Validation Loss: 0.0060, Validation Accuracy: 0.9333, Validation Precision: 0.9343, Validation Recall: 0.9333, Validation F1: 0.9335\n",
            "Epoch [5/10] Training Loss: 0.0034, Training Accuracy: 0.9625, Training Precision: 0.9627, Training Recall: 0.9625, Training F1: 0.9625, Validation Loss: 0.0088, Validation Accuracy: 0.9000, Validation Precision: 0.9040, Validation Recall: 0.9000, Validation F1: 0.9003\n",
            "Epoch [6/10] Training Loss: 0.0018, Training Accuracy: 0.9762, Training Precision: 0.9763, Training Recall: 0.9762, Training F1: 0.9762, Validation Loss: 0.0066, Validation Accuracy: 0.9333, Validation Precision: 0.9365, Validation Recall: 0.9333, Validation F1: 0.9336\n",
            "Epoch [7/10] Training Loss: 0.0006, Training Accuracy: 0.9932, Training Precision: 0.9932, Training Recall: 0.9932, Training F1: 0.9932, Validation Loss: 0.0064, Validation Accuracy: 0.9333, Validation Precision: 0.9352, Validation Recall: 0.9333, Validation F1: 0.9335\n",
            "Epoch [8/10] Training Loss: 0.0003, Training Accuracy: 0.9966, Training Precision: 0.9966, Training Recall: 0.9966, Training F1: 0.9966, Validation Loss: 0.0070, Validation Accuracy: 0.9286, Validation Precision: 0.9311, Validation Recall: 0.9286, Validation F1: 0.9288\n",
            "Epoch [9/10] Training Loss: 0.0002, Training Accuracy: 0.9977, Training Precision: 0.9977, Training Recall: 0.9977, Training F1: 0.9977, Validation Loss: 0.0073, Validation Accuracy: 0.9286, Validation Precision: 0.9311, Validation Recall: 0.9286, Validation F1: 0.9288\n",
            "Epoch [10/10] Training Loss: 0.0002, Training Accuracy: 0.9977, Training Precision: 0.9977, Training Recall: 0.9977, Training F1: 0.9977, Validation Loss: 0.0073, Validation Accuracy: 0.9333, Validation Precision: 0.9352, Validation Recall: 0.9333, Validation F1: 0.9335\n",
            "FOLD 8\n"
          ]
        },
        {
          "output_type": "stream",
          "name": "stderr",
          "text": [
            "/usr/local/lib/python3.10/dist-packages/torchvision/models/_utils.py:208: UserWarning: The parameter 'pretrained' is deprecated since 0.13 and may be removed in the future, please use 'weights' instead.\n",
            "  warnings.warn(\n",
            "/usr/local/lib/python3.10/dist-packages/torchvision/models/_utils.py:223: UserWarning: Arguments other than a weight enum or `None` for 'weights' are deprecated since 0.13 and may be removed in the future. The current behavior is equivalent to passing `weights=VGG19_Weights.IMAGENET1K_V1`. You can also use `weights=VGG19_Weights.DEFAULT` to get the most up-to-date weights.\n",
            "  warnings.warn(msg)\n"
          ]
        },
        {
          "output_type": "stream",
          "name": "stdout",
          "text": [
            "Epoch [1/10] Training Loss: 0.0183, Training Accuracy: 0.7003, Training Precision: 0.7044, Training Recall: 0.7003, Training F1: 0.6979, Validation Loss: 0.0139, Validation Accuracy: 0.8095, Validation Precision: 0.8562, Validation Recall: 0.8095, Validation F1: 0.8080\n",
            "Epoch [2/10] Training Loss: 0.0117, Training Accuracy: 0.8513, Training Precision: 0.8569, Training Recall: 0.8513, Training F1: 0.8504, Validation Loss: 0.0165, Validation Accuracy: 0.7857, Validation Precision: 0.8561, Validation Recall: 0.7857, Validation F1: 0.7815\n",
            "Epoch [3/10] Training Loss: 0.0086, Training Accuracy: 0.9001, Training Precision: 0.9029, Training Recall: 0.9001, Training F1: 0.8998, Validation Loss: 0.0107, Validation Accuracy: 0.8571, Validation Precision: 0.8735, Validation Recall: 0.8571, Validation F1: 0.8575\n",
            "Epoch [4/10] Training Loss: 0.0061, Training Accuracy: 0.9183, Training Precision: 0.9189, Training Recall: 0.9183, Training F1: 0.9182, Validation Loss: 0.0124, Validation Accuracy: 0.8429, Validation Precision: 0.8751, Validation Recall: 0.8429, Validation F1: 0.8425\n",
            "Epoch [5/10] Training Loss: 0.0052, Training Accuracy: 0.9376, Training Precision: 0.9409, Training Recall: 0.9376, Training F1: 0.9374, Validation Loss: 0.0079, Validation Accuracy: 0.9048, Validation Precision: 0.9114, Validation Recall: 0.9048, Validation F1: 0.9051\n",
            "Epoch [6/10] Training Loss: 0.0017, Training Accuracy: 0.9784, Training Precision: 0.9785, Training Recall: 0.9784, Training F1: 0.9784, Validation Loss: 0.0084, Validation Accuracy: 0.9143, Validation Precision: 0.9209, Validation Recall: 0.9143, Validation F1: 0.9146\n",
            "Epoch [7/10] Training Loss: 0.0010, Training Accuracy: 0.9886, Training Precision: 0.9887, Training Recall: 0.9886, Training F1: 0.9886, Validation Loss: 0.0073, Validation Accuracy: 0.9381, Validation Precision: 0.9406, Validation Recall: 0.9381, Validation F1: 0.9383\n",
            "Epoch [8/10] Training Loss: 0.0007, Training Accuracy: 0.9932, Training Precision: 0.9933, Training Recall: 0.9932, Training F1: 0.9932, Validation Loss: 0.0075, Validation Accuracy: 0.9429, Validation Precision: 0.9447, Validation Recall: 0.9429, Validation F1: 0.9430\n",
            "Epoch [9/10] Training Loss: 0.0004, Training Accuracy: 0.9989, Training Precision: 0.9989, Training Recall: 0.9989, Training F1: 0.9989, Validation Loss: 0.0085, Validation Accuracy: 0.9381, Validation Precision: 0.9406, Validation Recall: 0.9381, Validation F1: 0.9383\n",
            "Epoch [10/10] Training Loss: 0.0002, Training Accuracy: 1.0000, Training Precision: 1.0000, Training Recall: 1.0000, Training F1: 1.0000, Validation Loss: 0.0086, Validation Accuracy: 0.9429, Validation Precision: 0.9432, Validation Recall: 0.9429, Validation F1: 0.9429\n",
            "FOLD 9\n"
          ]
        },
        {
          "output_type": "stream",
          "name": "stderr",
          "text": [
            "/usr/local/lib/python3.10/dist-packages/torchvision/models/_utils.py:208: UserWarning: The parameter 'pretrained' is deprecated since 0.13 and may be removed in the future, please use 'weights' instead.\n",
            "  warnings.warn(\n",
            "/usr/local/lib/python3.10/dist-packages/torchvision/models/_utils.py:223: UserWarning: Arguments other than a weight enum or `None` for 'weights' are deprecated since 0.13 and may be removed in the future. The current behavior is equivalent to passing `weights=VGG19_Weights.IMAGENET1K_V1`. You can also use `weights=VGG19_Weights.DEFAULT` to get the most up-to-date weights.\n",
            "  warnings.warn(msg)\n"
          ]
        },
        {
          "output_type": "stream",
          "name": "stdout",
          "text": [
            "Epoch [1/10] Training Loss: 0.0176, Training Accuracy: 0.7003, Training Precision: 0.7000, Training Recall: 0.7003, Training F1: 0.7000, Validation Loss: 0.0259, Validation Accuracy: 0.7429, Validation Precision: 0.8380, Validation Recall: 0.7429, Validation F1: 0.7339\n",
            "Epoch [2/10] Training Loss: 0.0142, Training Accuracy: 0.8014, Training Precision: 0.8089, Training Recall: 0.8014, Training F1: 0.7987, Validation Loss: 0.0121, Validation Accuracy: 0.8429, Validation Precision: 0.8446, Validation Recall: 0.8429, Validation F1: 0.8432\n",
            "Epoch [3/10] Training Loss: 0.0084, Training Accuracy: 0.8865, Training Precision: 0.8888, Training Recall: 0.8865, Training F1: 0.8860, Validation Loss: 0.0086, Validation Accuracy: 0.8810, Validation Precision: 0.8961, Validation Recall: 0.8810, Validation F1: 0.8813\n",
            "Epoch [4/10] Training Loss: 0.0059, Training Accuracy: 0.9251, Training Precision: 0.9258, Training Recall: 0.9251, Training F1: 0.9249, Validation Loss: 0.0052, Validation Accuracy: 0.9333, Validation Precision: 0.9337, Validation Recall: 0.9333, Validation F1: 0.9334\n",
            "Epoch [5/10] Training Loss: 0.0053, Training Accuracy: 0.9364, Training Precision: 0.9369, Training Recall: 0.9364, Training F1: 0.9363, Validation Loss: 0.0044, Validation Accuracy: 0.9333, Validation Precision: 0.9333, Validation Recall: 0.9333, Validation F1: 0.9333\n",
            "Epoch [6/10] Training Loss: 0.0017, Training Accuracy: 0.9841, Training Precision: 0.9841, Training Recall: 0.9841, Training F1: 0.9841, Validation Loss: 0.0042, Validation Accuracy: 0.9476, Validation Precision: 0.9490, Validation Recall: 0.9476, Validation F1: 0.9477\n",
            "Epoch [7/10] Training Loss: 0.0007, Training Accuracy: 0.9943, Training Precision: 0.9943, Training Recall: 0.9943, Training F1: 0.9943, Validation Loss: 0.0033, Validation Accuracy: 0.9524, Validation Precision: 0.9527, Validation Recall: 0.9524, Validation F1: 0.9524\n",
            "Epoch [8/10] Training Loss: 0.0004, Training Accuracy: 0.9966, Training Precision: 0.9966, Training Recall: 0.9966, Training F1: 0.9966, Validation Loss: 0.0039, Validation Accuracy: 0.9571, Validation Precision: 0.9584, Validation Recall: 0.9571, Validation F1: 0.9572\n",
            "Epoch [9/10] Training Loss: 0.0002, Training Accuracy: 0.9989, Training Precision: 0.9989, Training Recall: 0.9989, Training F1: 0.9989, Validation Loss: 0.0034, Validation Accuracy: 0.9571, Validation Precision: 0.9572, Validation Recall: 0.9571, Validation F1: 0.9572\n",
            "Epoch [10/10] Training Loss: 0.0001, Training Accuracy: 0.9989, Training Precision: 0.9989, Training Recall: 0.9989, Training F1: 0.9989, Validation Loss: 0.0036, Validation Accuracy: 0.9619, Validation Precision: 0.9622, Validation Recall: 0.9619, Validation F1: 0.9619\n",
            "FOLD 10\n"
          ]
        },
        {
          "output_type": "stream",
          "name": "stderr",
          "text": [
            "/usr/local/lib/python3.10/dist-packages/torchvision/models/_utils.py:208: UserWarning: The parameter 'pretrained' is deprecated since 0.13 and may be removed in the future, please use 'weights' instead.\n",
            "  warnings.warn(\n",
            "/usr/local/lib/python3.10/dist-packages/torchvision/models/_utils.py:223: UserWarning: Arguments other than a weight enum or `None` for 'weights' are deprecated since 0.13 and may be removed in the future. The current behavior is equivalent to passing `weights=VGG19_Weights.IMAGENET1K_V1`. You can also use `weights=VGG19_Weights.DEFAULT` to get the most up-to-date weights.\n",
            "  warnings.warn(msg)\n"
          ]
        },
        {
          "output_type": "stream",
          "name": "stdout",
          "text": [
            "Epoch [1/10] Training Loss: 0.0225, Training Accuracy: 0.5147, Training Precision: 0.5142, Training Recall: 0.5147, Training F1: 0.5143, Validation Loss: 0.0204, Validation Accuracy: 0.7143, Validation Precision: 0.8106, Validation Recall: 0.7143, Validation F1: 0.6741\n",
            "Epoch [2/10] Training Loss: 0.0199, Training Accuracy: 0.6395, Training Precision: 0.6487, Training Recall: 0.6395, Training F1: 0.6367, Validation Loss: 0.0198, Validation Accuracy: 0.7905, Validation Precision: 0.7967, Validation Recall: 0.7905, Validation F1: 0.7859\n",
            "Epoch [3/10] Training Loss: 0.0173, Training Accuracy: 0.7279, Training Precision: 0.7368, Training Recall: 0.7279, Training F1: 0.7237, Validation Loss: 0.0129, Validation Accuracy: 0.8524, Validation Precision: 0.8622, Validation Recall: 0.8524, Validation F1: 0.8529\n",
            "Epoch [4/10] Training Loss: 0.0127, Training Accuracy: 0.8129, Training Precision: 0.8132, Training Recall: 0.8129, Training F1: 0.8127, Validation Loss: 0.0102, Validation Accuracy: 0.8476, Validation Precision: 0.8586, Validation Recall: 0.8476, Validation F1: 0.8482\n",
            "Epoch [5/10] Training Loss: 0.0157, Training Accuracy: 0.7789, Training Precision: 0.7813, Training Recall: 0.7789, Training F1: 0.7779, Validation Loss: 0.0138, Validation Accuracy: 0.8000, Validation Precision: 0.8512, Validation Recall: 0.8000, Validation F1: 0.7979\n",
            "Epoch [6/10] Training Loss: 0.0112, Training Accuracy: 0.8492, Training Precision: 0.8606, Training Recall: 0.8492, Training F1: 0.8474, Validation Loss: 0.0107, Validation Accuracy: 0.8333, Validation Precision: 0.8540, Validation Recall: 0.8333, Validation F1: 0.8336\n",
            "Epoch [7/10] Training Loss: 0.0088, Training Accuracy: 0.8741, Training Precision: 0.8784, Training Recall: 0.8741, Training F1: 0.8735, Validation Loss: 0.0090, Validation Accuracy: 0.8619, Validation Precision: 0.8677, Validation Recall: 0.8619, Validation F1: 0.8624\n",
            "Epoch [8/10] Training Loss: 0.0073, Training Accuracy: 0.9036, Training Precision: 0.9042, Training Recall: 0.9036, Training F1: 0.9035, Validation Loss: 0.0086, Validation Accuracy: 0.8857, Validation Precision: 0.8890, Validation Recall: 0.8857, Validation F1: 0.8861\n",
            "Epoch [9/10] Training Loss: 0.0058, Training Accuracy: 0.9320, Training Precision: 0.9328, Training Recall: 0.9320, Training F1: 0.9319, Validation Loss: 0.0081, Validation Accuracy: 0.8905, Validation Precision: 0.8912, Validation Recall: 0.8905, Validation F1: 0.8906\n",
            "Epoch [10/10] Training Loss: 0.0049, Training Accuracy: 0.9456, Training Precision: 0.9459, Training Recall: 0.9456, Training F1: 0.9455, Validation Loss: 0.0083, Validation Accuracy: 0.8810, Validation Precision: 0.8850, Validation Recall: 0.8810, Validation F1: 0.8814\n"
          ]
        },
        {
          "output_type": "display_data",
          "data": {
            "text/plain": [
              "<Figure size 2000x400 with 4 Axes>"
            ],
            "image/png": "[encoded data removed]"
          },
          "metadata": {}
        }
      ],
      "source": [
        "import os\n",
        "import torch\n",
        "import torchvision\n",
        "import numpy as np\n",
        "import matplotlib.pyplot as plt\n",
        "from torchvision.datasets import ImageFolder\n",
        "from torchvision.transforms import (ToTensor, Resize, RandomResizedCrop, RandomRotation,\n",
        "                                   RandomHorizontalFlip, RandomVerticalFlip, ColorJitter)\n",
        "from sklearn.model_selection import KFold\n",
        "from torch.utils.data import DataLoader, random_split, Subset\n",
        "from torch import nn, optim\n",
        "from torch.optim.lr_scheduler import StepLR\n",
        "from sklearn.metrics import precision_recall_fscore_support\n",
        "\n",
        "!cp -r \"/content/drive/MyDrive/combined_dataset\" \"/content/combined_dataset\"\n",
        "\n",
        "\n",
        "# Path to your dataset\n",
        "data_dir = '/content/combined_dataset'\n",
        "\n",
        "\n",
        "# Parameters\n",
        "image_size = (224, 224)\n",
        "batch_size = 32\n",
        "num_epochs = 10\n",
        "num_folds = 10\n",
        "\n",
        "# Transforms\n",
        "train_transform = torchvision.transforms.Compose([\n",
        "    RandomResizedCrop(image_size),\n",
        "    RandomRotation(15),\n",
        "    RandomHorizontalFlip(),\n",
        "    RandomVerticalFlip(),\n",
        "    ColorJitter(brightness=0.2, contrast=0.2, saturation=0.2, hue=0.1),\n",
        "    ToTensor()\n",
        "])\n",
        "\n",
        "val_test_transform = torchvision.transforms.Compose([\n",
        "    Resize(image_size, antialias=True),\n",
        "    ToTensor()\n",
        "])\n",
        "\n",
        "# Loading the full dataset with train transform\n",
        "full_dataset = ImageFolder(data_dir, transform=train_transform)\n",
        "num_classes = len(full_dataset.classes)\n",
        "\n",
        "# Splitting the dataset into training, validation, and test sets (let's say 70%, 15%, 15%)\n",
        "train_size = int(0.7 * len(full_dataset))\n",
        "validation_size = (len(full_dataset) - train_size) // 2\n",
        "test_size = len(full_dataset) - train_size - validation_size\n",
        "train_dataset, validation_dataset, test_dataset = torch.utils.data.random_split(full_dataset, [train_size, validation_size, test_size])\n",
        "\n",
        "# Apply the validation and test transforms to the respective splits\n",
        "validation_dataset.dataset.transform = val_test_transform\n",
        "test_dataset.dataset.transform = val_test_transform\n",
        "\n",
        "# Data loaders\n",
        "train_loader = DataLoader(train_dataset, batch_size=batch_size, shuffle=True)\n",
        "val_loader = DataLoader(validation_dataset, batch_size=batch_size, shuffle=False)\n",
        "test_loader = DataLoader(test_dataset, batch_size=batch_size, shuffle=False)\n",
        "\n",
        "\n",
        "device = torch.device(\"cuda\" if torch.cuda.is_available() else \"cpu\")\n",
        "num_classes = len(full_dataset.classes)\n",
        "\n",
        "kfold = KFold(n_splits=num_folds, shuffle=True)\n",
        "fold_results = []\n",
        "\n",
        "for fold, (train_ids, _) in enumerate(kfold.split(train_dataset)):\n",
        "    print(f\"FOLD {fold + 1}\")\n",
        "\n",
        "    train_subsampler = Subset(train_dataset, train_ids)\n",
        "    train_loader = DataLoader(train_subsampler, batch_size=batch_size, shuffle=True)\n",
        "\n",
        "\n",
        "\n",
        "    # Using VGG-19 with Dropout\n",
        "    model = torchvision.models.vgg19(pretrained=True)\n",
        "    model.classifier[2] = nn.Dropout(0.5) # Adding dropout to the default VGG classifier\n",
        "    model.classifier[6] = torch.nn.Linear(model.classifier[6].in_features, num_classes)\n",
        "\n",
        "    optimizer = torch.optim.AdamW(model.parameters(), lr=0.0001, weight_decay=0.0001)\n",
        "    scheduler = StepLR(optimizer, step_size=5, gamma=0.1) # example values for step_size and gamma\n",
        "\n",
        "    model.to(device)\n",
        "\n",
        "    train_acc_list, val_acc_list, train_loss_list, val_loss_list = [], [], [], []\n",
        "    train_prec_list, train_recall_list, train_f1_list = [], [], []\n",
        "    val_prec_list, val_recall_list, val_f1_list = [], [], []\n",
        "\n",
        "    for epoch in range(num_epochs):\n",
        "        # Training\n",
        "        model.train()\n",
        "        train_loss, train_correct = 0.0, 0\n",
        "        all_labels, all_preds = [], []\n",
        "        for images, labels in train_loader:\n",
        "            try:\n",
        "                images, labels = images.to(device), labels.to(device)\n",
        "\n",
        "                optimizer.zero_grad()\n",
        "                outputs = model(images)\n",
        "                loss = nn.CrossEntropyLoss()(outputs, labels)\n",
        "                loss.backward()\n",
        "                optimizer.step()\n",
        "                train_loss += loss.item()\n",
        "                preds = torch.argmax(outputs, dim=1)\n",
        "                train_correct += (preds == labels).sum().item()\n",
        "                all_labels.extend(labels.cpu().numpy())\n",
        "                all_preds.extend(preds.cpu().numpy())\n",
        "                del images, labels, outputs\n",
        "                torch.cuda.empty_cache()\n",
        "            except FileNotFoundError:\n",
        "                print(\"A file was not found. Skipping to next batch.\")\n",
        "                continue\n",
        "\n",
        "\n",
        "\n",
        "\n",
        "\n",
        "\n",
        "        scheduler.step()\n",
        "\n",
        "        avg_train_loss = train_loss / len(train_loader.dataset)\n",
        "        avg_train_accuracy = train_correct / len(train_loader.dataset)\n",
        "        train_precision, train_recall, train_f1, _ = precision_recall_fscore_support(all_labels, all_preds, average='weighted', zero_division=1)\n",
        "\n",
        "        # Validation\n",
        "        model.eval()\n",
        "        val_loss, val_correct = 0.0, 0\n",
        "        all_labels, all_preds = [], []\n",
        "        with torch.no_grad():\n",
        "            for images, labels in val_loader:\n",
        "                images, labels = images.to(device), labels.to(device)\n",
        "                outputs = model(images)\n",
        "                loss = nn.CrossEntropyLoss()(outputs, labels)\n",
        "                val_loss += loss.item()\n",
        "                preds = torch.argmax(outputs, dim=1)\n",
        "                val_correct += (preds == labels).sum().item()\n",
        "                all_labels.extend(labels.cpu().numpy())\n",
        "                all_preds.extend(preds.cpu().numpy())\n",
        "                del images, labels, outputs\n",
        "                torch.cuda.empty_cache()\n",
        "\n",
        "        avg_val_loss = val_loss / len(val_loader.dataset)\n",
        "        avg_val_accuracy = val_correct / len(val_loader.dataset)\n",
        "        val_precision, val_recall, val_f1, _ = precision_recall_fscore_support(all_labels, all_preds, average='weighted', zero_division=1)\n",
        "\n",
        "        print(f\"Epoch [{epoch+1}/{num_epochs}] Training Loss: {avg_train_loss:.4f}, Training Accuracy: {avg_train_accuracy:.4f}, Training Precision: {train_precision:.4f}, Training Recall: {train_recall:.4f}, Training F1: {train_f1:.4f}, Validation Loss: {avg_val_loss:.4f}, Validation Accuracy: {avg_val_accuracy:.4f}, Validation Precision: {val_precision:.4f}, Validation Recall: {val_recall:.4f}, Validation F1: {val_f1:.4f}\")\n",
        "\n",
        "        train_acc_list.append(avg_train_accuracy)\n",
        "        val_acc_list.append(avg_val_accuracy)\n",
        "        train_loss_list.append(avg_train_loss)\n",
        "        val_loss_list.append(avg_val_loss)\n",
        "        train_prec_list.append(train_precision)\n",
        "        train_recall_list.append(train_recall)\n",
        "        train_f1_list.append(train_f1)\n",
        "        val_prec_list.append(val_precision)\n",
        "        val_recall_list.append(val_recall)\n",
        "        val_f1_list.append(val_f1)\n",
        "\n",
        "    fold_results.append({\n",
        "        'train_acc': train_acc_list,\n",
        "        'val_acc': val_acc_list,\n",
        "        'train_loss': train_loss_list,\n",
        "        'val_loss': val_loss_list,\n",
        "        'train_prec': train_prec_list,\n",
        "        'val_prec': val_prec_list,\n",
        "        'train_recall': train_recall_list,\n",
        "        'val_recall': val_recall_list,\n",
        "        'train_f1': train_f1_list,\n",
        "        'val_f1': val_f1_list\n",
        "    })\n",
        "\n",
        "# Compute averages over all folds\n",
        "avg_train_acc = np.mean([result['train_acc'] for result in fold_results], axis=0)\n",
        "avg_val_acc = np.mean([result['val_acc'] for result in fold_results], axis=0)\n",
        "avg_train_loss = np.mean([result['train_loss'] for result in fold_results], axis=0)\n",
        "avg_val_loss = np.mean([result['val_loss'] for result in fold_results], axis=0)\n",
        "avg_train_prec = np.mean([result['train_prec'] for result in fold_results], axis=0)\n",
        "avg_val_prec = np.mean([result['val_prec'] for result in fold_results], axis=0)\n",
        "avg_train_recall = np.mean([result['train_recall'] for result in fold_results], axis=0)\n",
        "avg_val_recall = np.mean([result['val_recall'] for result in fold_results], axis=0)\n",
        "avg_train_f1 = np.mean([result['train_f1'] for result in fold_results], axis=0)\n",
        "avg_val_f1 = np.mean([result['val_f1'] for result in fold_results], axis=0)\n",
        "\n",
        "# Plotting the average metrics\n",
        "plt.figure(figsize=(20, 4))\n",
        "\n",
        "plt.subplot(1, 4, 1)\n",
        "plt.plot(range(num_epochs), avg_train_acc, label='Training')\n",
        "plt.plot(range(num_epochs), avg_val_acc, label='Validation')\n",
        "plt.xlabel('Epochs')\n",
        "plt.ylabel('Accuracy')\n",
        "plt.legend()\n",
        "\n",
        "plt.subplot(1, 4, 2)\n",
        "plt.plot(range(num_epochs), avg_train_loss, label='Training')\n",
        "plt.plot(range(num_epochs), avg_val_loss, label='Validation')\n",
        "plt.xlabel('Epochs')\n",
        "plt.ylabel('Loss')\n",
        "plt.legend()\n",
        "\n",
        "plt.subplot(1, 4, 3)\n",
        "plt.plot(range(num_epochs), avg_train_prec, label='Training')\n",
        "plt.plot(range(num_epochs), avg_val_prec, label='Validation')\n",
        "plt.xlabel('Epochs')\n",
        "plt.ylabel('Precision')\n",
        "plt.legend()\n",
        "\n",
        "plt.subplot(1, 4, 4)\n",
        "plt.plot(range(num_epochs), avg_train_recall, label='Training')\n",
        "plt.plot(range(num_epochs), avg_val_recall, label='Validation')\n",
        "plt.xlabel('Epochs')\n",
        "plt.ylabel('Recall')\n",
        "plt.legend()\n",
        "\n",
        "plt.tight_layout()\n",
        "plt.show()\n"
      ]
    },
    {
      "cell_type": "markdown",
      "metadata": {
        "id": "qdBB4FD0SL7D"
      },
      "source": [
        "import matplotlib.pyplot as plt\n",
        "\n",
        "# Initialize lists to store values\n",
        "train_losses = []\n",
        "train_accuracies = []\n",
        "test_losses = []\n",
        "test_accuracies = []\n",
        "\n",
        "# Train the model\n",
        "for epoch in range(num_epochs):\n",
        "    train_loss = 0.0\n",
        "    train_correct = 0\n",
        "    \n",
        "    # Training code...\n",
        "\n",
        "    # Calculate train accuracy and append to list\n",
        "    train_accuracy = train_correct / len(train_dataset)\n",
        "    train_accuracies.append(train_accuracy)\n",
        "\n",
        "    # Evaluate on the test set\n",
        "    model.eval()\n",
        "    test_loss = 0.0\n",
        "    test_correct = 0\n",
        "    \n",
        "    # Testing code...\n",
        "    \n",
        "    # Calculate test accuracy and append to list\n",
        "    test_accuracy = test_correct / len(test_dataset)\n",
        "    test_accuracies.append(test_accuracy)\n",
        "\n",
        "    # Append train and test losses to lists\n",
        "    train_losses.append(train_loss)\n",
        "    test_losses.append(test_loss)\n",
        "\n",
        "# Plotting the tables\n",
        "epochs = range(1, num_epochs + 1)\n",
        "\n",
        "# Plot train and test losses\n",
        "plt.plot(epochs, train_losses, label='Train Loss')\n",
        "plt.plot(epochs, test_losses, label='Test Loss')\n",
        "plt.xlabel('Epochs')\n",
        "plt.ylabel('Loss')\n",
        "plt.title('Training and Test Loss')\n",
        "plt.legend()\n",
        "plt.show()\n",
        "\n",
        "# Plot train and test accuracies\n",
        "plt.plot(epochs, train_accuracies, label='Train Accuracy')\n",
        "plt.plot(epochs, test_accuracies, label='Test Accuracy')\n",
        "plt.xlabel('Epochs')\n",
        "plt.ylabel('Accuracy')\n",
        "plt.title('Training and Test Accuracy')\n",
        "plt.legend()\n",
        "plt.show()\n"
      ]
    }
  ],
  "metadata": {
    "accelerator": "GPU",
    "colab": {
      "provenance": [],
      "machine_shape": "hm",
      "gpuType": "T4"
    },
    "kernelspec": {
      "display_name": "Python 3",
      "name": "python3"
    },
    "language_info": {
      "name": "python"
    }
  },
  "nbformat": 4,
  "nbformat_minor": 0
}