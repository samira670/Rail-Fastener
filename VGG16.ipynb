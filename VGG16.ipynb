{
  "cells": [
    {
      "cell_type": "code",
      "execution_count": null,
      "metadata": {
        "id": "pWCymE0_1m7V",
        "colab": {
          "base_uri": "https://localhost:8080/"
        },
        "outputId": "0d9725cc-d8e4-46d8-ee37-c9ce75b50efd"
      },
      "outputs": [
        {
          "output_type": "stream",
          "name": "stdout",
          "text": [
            "Mounted at /content/drive\n"
          ]
        }
      ],
      "source": [
        "from google.colab import drive\n",
        "drive.mount('/content/drive', force_remount=True)\n"
      ]
    },
    {
      "cell_type": "code",
      "source": [
        "!cp -r \"/content/drive/MyDrive/Dataset\" \"/content/\"\n"
      ],
      "metadata": {
        "id": "qw1xi5W-6Bvp"
      },
      "execution_count": null,
      "outputs": []
    },
    {
      "cell_type": "code",
      "execution_count": null,
      "metadata": {
        "id": "_PR1oT5tU3a-",
        "colab": {
          "base_uri": "https://localhost:8080/"
        },
        "outputId": "b1bb1b18-2807-47bf-9953-e81c7d0d0c06"
      },
      "outputs": [
        {
          "output_type": "stream",
          "name": "stdout",
          "text": [
            "Requirement already satisfied: datasets in /usr/local/lib/python3.10/dist-packages (2.14.5)\n",
            "Requirement already satisfied: numpy>=1.17 in /usr/local/lib/python3.10/dist-packages (from datasets) (1.23.5)\n",
            "Requirement already satisfied: pyarrow>=8.0.0 in /usr/local/lib/python3.10/dist-packages (from datasets) (9.0.0)\n",
            "Requirement already satisfied: dill<0.3.8,>=0.3.0 in /usr/local/lib/python3.10/dist-packages (from datasets) (0.3.7)\n",
            "Requirement already satisfied: pandas in /usr/local/lib/python3.10/dist-packages (from datasets) (1.5.3)\n",
            "Requirement already satisfied: requests>=2.19.0 in /usr/local/lib/python3.10/dist-packages (from datasets) (2.31.0)\n",
            "Requirement already satisfied: tqdm>=4.62.1 in /usr/local/lib/python3.10/dist-packages (from datasets) (4.66.1)\n",
            "Requirement already satisfied: xxhash in /usr/local/lib/python3.10/dist-packages (from datasets) (3.3.0)\n",
            "Requirement already satisfied: multiprocess in /usr/local/lib/python3.10/dist-packages (from datasets) (0.70.15)\n",
            "Requirement already satisfied: fsspec[http]<2023.9.0,>=2023.1.0 in /usr/local/lib/python3.10/dist-packages (from datasets) (2023.6.0)\n",
            "Requirement already satisfied: aiohttp in /usr/local/lib/python3.10/dist-packages (from datasets) (3.8.5)\n",
            "Requirement already satisfied: huggingface-hub<1.0.0,>=0.14.0 in /usr/local/lib/python3.10/dist-packages (from datasets) (0.17.2)\n",
            "Requirement already satisfied: packaging in /usr/local/lib/python3.10/dist-packages (from datasets) (23.1)\n",
            "Requirement already satisfied: pyyaml>=5.1 in /usr/local/lib/python3.10/dist-packages (from datasets) (6.0.1)\n",
            "Requirement already satisfied: attrs>=17.3.0 in /usr/local/lib/python3.10/dist-packages (from aiohttp->datasets) (23.1.0)\n",
            "Requirement already satisfied: charset-normalizer<4.0,>=2.0 in /usr/local/lib/python3.10/dist-packages (from aiohttp->datasets) (3.2.0)\n",
            "Requirement already satisfied: multidict<7.0,>=4.5 in /usr/local/lib/python3.10/dist-packages (from aiohttp->datasets) (6.0.4)\n",
            "Requirement already satisfied: async-timeout<5.0,>=4.0.0a3 in /usr/local/lib/python3.10/dist-packages (from aiohttp->datasets) (4.0.3)\n",
            "Requirement already satisfied: yarl<2.0,>=1.0 in /usr/local/lib/python3.10/dist-packages (from aiohttp->datasets) (1.9.2)\n",
            "Requirement already satisfied: frozenlist>=1.1.1 in /usr/local/lib/python3.10/dist-packages (from aiohttp->datasets) (1.4.0)\n",
            "Requirement already satisfied: aiosignal>=1.1.2 in /usr/local/lib/python3.10/dist-packages (from aiohttp->datasets) (1.3.1)\n",
            "Requirement already satisfied: filelock in /usr/local/lib/python3.10/dist-packages (from huggingface-hub<1.0.0,>=0.14.0->datasets) (3.12.2)\n",
            "Requirement already satisfied: typing-extensions>=3.7.4.3 in /usr/local/lib/python3.10/dist-packages (from huggingface-hub<1.0.0,>=0.14.0->datasets) (4.5.0)\n",
            "Requirement already satisfied: idna<4,>=2.5 in /usr/local/lib/python3.10/dist-packages (from requests>=2.19.0->datasets) (3.4)\n",
            "Requirement already satisfied: urllib3<3,>=1.21.1 in /usr/local/lib/python3.10/dist-packages (from requests>=2.19.0->datasets) (2.0.4)\n",
            "Requirement already satisfied: certifi>=2017.4.17 in /usr/local/lib/python3.10/dist-packages (from requests>=2.19.0->datasets) (2023.7.22)\n",
            "Requirement already satisfied: python-dateutil>=2.8.1 in /usr/local/lib/python3.10/dist-packages (from pandas->datasets) (2.8.2)\n",
            "Requirement already satisfied: pytz>=2020.1 in /usr/local/lib/python3.10/dist-packages (from pandas->datasets) (2023.3.post1)\n",
            "Requirement already satisfied: six>=1.5 in /usr/local/lib/python3.10/dist-packages (from python-dateutil>=2.8.1->pandas->datasets) (1.16.0)\n"
          ]
        }
      ],
      "source": [
        "!pip install datasets\n"
      ]
    },
    {
      "cell_type": "code",
      "execution_count": null,
      "metadata": {
        "id": "vNP-qx1IcjE_",
        "colab": {
          "base_uri": "https://localhost:8080/"
        },
        "outputId": "437e5c79-c882-492e-8f1d-e15025493a0f"
      },
      "outputs": [
        {
          "output_type": "stream",
          "name": "stdout",
          "text": [
            "Requirement already satisfied: transformers in /usr/local/lib/python3.10/dist-packages (4.33.2)\n",
            "Requirement already satisfied: filelock in /usr/local/lib/python3.10/dist-packages (from transformers) (3.12.2)\n",
            "Requirement already satisfied: huggingface-hub<1.0,>=0.15.1 in /usr/local/lib/python3.10/dist-packages (from transformers) (0.17.2)\n",
            "Requirement already satisfied: numpy>=1.17 in /usr/local/lib/python3.10/dist-packages (from transformers) (1.23.5)\n",
            "Requirement already satisfied: packaging>=20.0 in /usr/local/lib/python3.10/dist-packages (from transformers) (23.1)\n",
            "Requirement already satisfied: pyyaml>=5.1 in /usr/local/lib/python3.10/dist-packages (from transformers) (6.0.1)\n",
            "Requirement already satisfied: regex!=2019.12.17 in /usr/local/lib/python3.10/dist-packages (from transformers) (2023.6.3)\n",
            "Requirement already satisfied: requests in /usr/local/lib/python3.10/dist-packages (from transformers) (2.31.0)\n",
            "Requirement already satisfied: tokenizers!=0.11.3,<0.14,>=0.11.1 in /usr/local/lib/python3.10/dist-packages (from transformers) (0.13.3)\n",
            "Requirement already satisfied: safetensors>=0.3.1 in /usr/local/lib/python3.10/dist-packages (from transformers) (0.3.3)\n",
            "Requirement already satisfied: tqdm>=4.27 in /usr/local/lib/python3.10/dist-packages (from transformers) (4.66.1)\n",
            "Requirement already satisfied: fsspec in /usr/local/lib/python3.10/dist-packages (from huggingface-hub<1.0,>=0.15.1->transformers) (2023.6.0)\n",
            "Requirement already satisfied: typing-extensions>=3.7.4.3 in /usr/local/lib/python3.10/dist-packages (from huggingface-hub<1.0,>=0.15.1->transformers) (4.5.0)\n",
            "Requirement already satisfied: charset-normalizer<4,>=2 in /usr/local/lib/python3.10/dist-packages (from requests->transformers) (3.2.0)\n",
            "Requirement already satisfied: idna<4,>=2.5 in /usr/local/lib/python3.10/dist-packages (from requests->transformers) (3.4)\n",
            "Requirement already satisfied: urllib3<3,>=1.21.1 in /usr/local/lib/python3.10/dist-packages (from requests->transformers) (2.0.4)\n",
            "Requirement already satisfied: certifi>=2017.4.17 in /usr/local/lib/python3.10/dist-packages (from requests->transformers) (2023.7.22)\n"
          ]
        }
      ],
      "source": [
        "!pip install transformers"
      ]
    },
    {
      "cell_type": "code",
      "execution_count": null,
      "metadata": {
        "id": "jTzw4VtDVTdU",
        "colab": {
          "base_uri": "https://localhost:8080/"
        },
        "outputId": "d1100aa6-3395-4a0d-8b59-def7c443d004"
      },
      "outputs": [
        {
          "output_type": "stream",
          "name": "stdout",
          "text": [
            "Requirement already satisfied: transformers in /usr/local/lib/python3.10/dist-packages (4.33.2)\n",
            "Requirement already satisfied: filelock in /usr/local/lib/python3.10/dist-packages (from transformers) (3.12.2)\n",
            "Requirement already satisfied: huggingface-hub<1.0,>=0.15.1 in /usr/local/lib/python3.10/dist-packages (from transformers) (0.17.2)\n",
            "Requirement already satisfied: numpy>=1.17 in /usr/local/lib/python3.10/dist-packages (from transformers) (1.23.5)\n",
            "Requirement already satisfied: packaging>=20.0 in /usr/local/lib/python3.10/dist-packages (from transformers) (23.1)\n",
            "Requirement already satisfied: pyyaml>=5.1 in /usr/local/lib/python3.10/dist-packages (from transformers) (6.0.1)\n",
            "Requirement already satisfied: regex!=2019.12.17 in /usr/local/lib/python3.10/dist-packages (from transformers) (2023.6.3)\n",
            "Requirement already satisfied: requests in /usr/local/lib/python3.10/dist-packages (from transformers) (2.31.0)\n",
            "Requirement already satisfied: tokenizers!=0.11.3,<0.14,>=0.11.1 in /usr/local/lib/python3.10/dist-packages (from transformers) (0.13.3)\n",
            "Requirement already satisfied: safetensors>=0.3.1 in /usr/local/lib/python3.10/dist-packages (from transformers) (0.3.3)\n",
            "Requirement already satisfied: tqdm>=4.27 in /usr/local/lib/python3.10/dist-packages (from transformers) (4.66.1)\n",
            "Requirement already satisfied: fsspec in /usr/local/lib/python3.10/dist-packages (from huggingface-hub<1.0,>=0.15.1->transformers) (2023.6.0)\n",
            "Requirement already satisfied: typing-extensions>=3.7.4.3 in /usr/local/lib/python3.10/dist-packages (from huggingface-hub<1.0,>=0.15.1->transformers) (4.5.0)\n",
            "Requirement already satisfied: charset-normalizer<4,>=2 in /usr/local/lib/python3.10/dist-packages (from requests->transformers) (3.2.0)\n",
            "Requirement already satisfied: idna<4,>=2.5 in /usr/local/lib/python3.10/dist-packages (from requests->transformers) (3.4)\n",
            "Requirement already satisfied: urllib3<3,>=1.21.1 in /usr/local/lib/python3.10/dist-packages (from requests->transformers) (2.0.4)\n",
            "Requirement already satisfied: certifi>=2017.4.17 in /usr/local/lib/python3.10/dist-packages (from requests->transformers) (2023.7.22)\n"
          ]
        }
      ],
      "source": [
        "!pip install --upgrade transformers\n"
      ]
    },
    {
      "cell_type": "code",
      "source": [
        "!pip install timm\n"
      ],
      "metadata": {
        "id": "TTLx8xd4kfAM",
        "colab": {
          "base_uri": "https://localhost:8080/"
        },
        "outputId": "ac608ddc-ed8b-447d-915f-e9cc79b9b35e"
      },
      "execution_count": null,
      "outputs": [
        {
          "output_type": "stream",
          "name": "stdout",
          "text": [
            "Requirement already satisfied: timm in /usr/local/lib/python3.10/dist-packages (0.9.7)\n",
            "Requirement already satisfied: torch>=1.7 in /usr/local/lib/python3.10/dist-packages (from timm) (2.0.1+cu118)\n",
            "Requirement already satisfied: torchvision in /usr/local/lib/python3.10/dist-packages (from timm) (0.15.2+cu118)\n",
            "Requirement already satisfied: pyyaml in /usr/local/lib/python3.10/dist-packages (from timm) (6.0.1)\n",
            "Requirement already satisfied: huggingface-hub in /usr/local/lib/python3.10/dist-packages (from timm) (0.17.2)\n",
            "Requirement already satisfied: safetensors in /usr/local/lib/python3.10/dist-packages (from timm) (0.3.3)\n",
            "Requirement already satisfied: filelock in /usr/local/lib/python3.10/dist-packages (from torch>=1.7->timm) (3.12.2)\n",
            "Requirement already satisfied: typing-extensions in /usr/local/lib/python3.10/dist-packages (from torch>=1.7->timm) (4.5.0)\n",
            "Requirement already satisfied: sympy in /usr/local/lib/python3.10/dist-packages (from torch>=1.7->timm) (1.12)\n",
            "Requirement already satisfied: networkx in /usr/local/lib/python3.10/dist-packages (from torch>=1.7->timm) (3.1)\n",
            "Requirement already satisfied: jinja2 in /usr/local/lib/python3.10/dist-packages (from torch>=1.7->timm) (3.1.2)\n",
            "Requirement already satisfied: triton==2.0.0 in /usr/local/lib/python3.10/dist-packages (from torch>=1.7->timm) (2.0.0)\n",
            "Requirement already satisfied: cmake in /usr/local/lib/python3.10/dist-packages (from triton==2.0.0->torch>=1.7->timm) (3.27.4.1)\n",
            "Requirement already satisfied: lit in /usr/local/lib/python3.10/dist-packages (from triton==2.0.0->torch>=1.7->timm) (16.0.6)\n",
            "Requirement already satisfied: fsspec in /usr/local/lib/python3.10/dist-packages (from huggingface-hub->timm) (2023.6.0)\n",
            "Requirement already satisfied: requests in /usr/local/lib/python3.10/dist-packages (from huggingface-hub->timm) (2.31.0)\n",
            "Requirement already satisfied: tqdm>=4.42.1 in /usr/local/lib/python3.10/dist-packages (from huggingface-hub->timm) (4.66.1)\n",
            "Requirement already satisfied: packaging>=20.9 in /usr/local/lib/python3.10/dist-packages (from huggingface-hub->timm) (23.1)\n",
            "Requirement already satisfied: numpy in /usr/local/lib/python3.10/dist-packages (from torchvision->timm) (1.23.5)\n",
            "Requirement already satisfied: pillow!=8.3.*,>=5.3.0 in /usr/local/lib/python3.10/dist-packages (from torchvision->timm) (9.4.0)\n",
            "Requirement already satisfied: MarkupSafe>=2.0 in /usr/local/lib/python3.10/dist-packages (from jinja2->torch>=1.7->timm) (2.1.3)\n",
            "Requirement already satisfied: charset-normalizer<4,>=2 in /usr/local/lib/python3.10/dist-packages (from requests->huggingface-hub->timm) (3.2.0)\n",
            "Requirement already satisfied: idna<4,>=2.5 in /usr/local/lib/python3.10/dist-packages (from requests->huggingface-hub->timm) (3.4)\n",
            "Requirement already satisfied: urllib3<3,>=1.21.1 in /usr/local/lib/python3.10/dist-packages (from requests->huggingface-hub->timm) (2.0.4)\n",
            "Requirement already satisfied: certifi>=2017.4.17 in /usr/local/lib/python3.10/dist-packages (from requests->huggingface-hub->timm) (2023.7.22)\n",
            "Requirement already satisfied: mpmath>=0.19 in /usr/local/lib/python3.10/dist-packages (from sympy->torch>=1.7->timm) (1.3.0)\n"
          ]
        }
      ]
    },
    {
      "cell_type": "code",
      "execution_count": null,
      "metadata": {
        "id": "rl-XkNw_1jGT",
        "colab": {
          "base_uri": "https://localhost:8080/",
          "height": 1000
        },
        "outputId": "d8807861-4711-4632-aba7-13827c79ab33"
      },
      "outputs": [
        {
          "output_type": "stream",
          "name": "stdout",
          "text": [
            "FOLD 1\n"
          ]
        },
        {
          "output_type": "stream",
          "name": "stderr",
          "text": [
            "/usr/local/lib/python3.10/dist-packages/torchvision/models/_utils.py:208: UserWarning: The parameter 'pretrained' is deprecated since 0.13 and may be removed in the future, please use 'weights' instead.\n",
            "  warnings.warn(\n",
            "/usr/local/lib/python3.10/dist-packages/torchvision/models/_utils.py:223: UserWarning: Arguments other than a weight enum or `None` for 'weights' are deprecated since 0.13 and may be removed in the future. The current behavior is equivalent to passing `weights=VGG16_Weights.IMAGENET1K_V1`. You can also use `weights=VGG16_Weights.DEFAULT` to get the most up-to-date weights.\n",
            "  warnings.warn(msg)\n"
          ]
        },
        {
          "output_type": "stream",
          "name": "stdout",
          "text": [
            "Epoch [1/10] Training Loss: 0.0177, Training Accuracy: 0.7026, Training Precision: 0.7034, Training Recall: 0.7026, Training F1: 0.7027, Validation Loss: 0.0141, Validation Accuracy: 0.7714, Validation Precision: 0.7953, Validation Recall: 0.7714, Validation F1: 0.7691\n",
            "Epoch [2/10] Training Loss: 0.0100, Training Accuracy: 0.8581, Training Precision: 0.8581, Training Recall: 0.8581, Training F1: 0.8581, Validation Loss: 0.0105, Validation Accuracy: 0.8619, Validation Precision: 0.8624, Validation Recall: 0.8619, Validation F1: 0.8616\n",
            "Epoch [3/10] Training Loss: 0.0051, Training Accuracy: 0.9274, Training Precision: 0.9274, Training Recall: 0.9274, Training F1: 0.9274, Validation Loss: 0.0104, Validation Accuracy: 0.8619, Validation Precision: 0.8730, Validation Recall: 0.8619, Validation F1: 0.8600\n",
            "Epoch [4/10] Training Loss: 0.0036, Training Accuracy: 0.9603, Training Precision: 0.9606, Training Recall: 0.9603, Training F1: 0.9603, Validation Loss: 0.0063, Validation Accuracy: 0.9143, Validation Precision: 0.9171, Validation Recall: 0.9143, Validation F1: 0.9143\n",
            "Epoch [5/10] Training Loss: 0.0028, Training Accuracy: 0.9682, Training Precision: 0.9682, Training Recall: 0.9682, Training F1: 0.9682, Validation Loss: 0.0115, Validation Accuracy: 0.9000, Validation Precision: 0.9006, Validation Recall: 0.9000, Validation F1: 0.8998\n",
            "Epoch [6/10] Training Loss: 0.0009, Training Accuracy: 0.9921, Training Precision: 0.9921, Training Recall: 0.9921, Training F1: 0.9921, Validation Loss: 0.0096, Validation Accuracy: 0.9238, Validation Precision: 0.9238, Validation Recall: 0.9238, Validation F1: 0.9238\n",
            "Epoch [7/10] Training Loss: 0.0002, Training Accuracy: 1.0000, Training Precision: 1.0000, Training Recall: 1.0000, Training F1: 1.0000, Validation Loss: 0.0096, Validation Accuracy: 0.9286, Validation Precision: 0.9286, Validation Recall: 0.9286, Validation F1: 0.9286\n",
            "Epoch [8/10] Training Loss: 0.0001, Training Accuracy: 1.0000, Training Precision: 1.0000, Training Recall: 1.0000, Training F1: 1.0000, Validation Loss: 0.0100, Validation Accuracy: 0.9286, Validation Precision: 0.9286, Validation Recall: 0.9286, Validation F1: 0.9286\n",
            "Epoch [9/10] Training Loss: 0.0001, Training Accuracy: 1.0000, Training Precision: 1.0000, Training Recall: 1.0000, Training F1: 1.0000, Validation Loss: 0.0103, Validation Accuracy: 0.9286, Validation Precision: 0.9286, Validation Recall: 0.9286, Validation F1: 0.9286\n",
            "Epoch [10/10] Training Loss: 0.0001, Training Accuracy: 1.0000, Training Precision: 1.0000, Training Recall: 1.0000, Training F1: 1.0000, Validation Loss: 0.0106, Validation Accuracy: 0.9286, Validation Precision: 0.9286, Validation Recall: 0.9286, Validation F1: 0.9286\n",
            "FOLD 2\n"
          ]
        },
        {
          "output_type": "stream",
          "name": "stderr",
          "text": [
            "/usr/local/lib/python3.10/dist-packages/torchvision/models/_utils.py:208: UserWarning: The parameter 'pretrained' is deprecated since 0.13 and may be removed in the future, please use 'weights' instead.\n",
            "  warnings.warn(\n",
            "/usr/local/lib/python3.10/dist-packages/torchvision/models/_utils.py:223: UserWarning: Arguments other than a weight enum or `None` for 'weights' are deprecated since 0.13 and may be removed in the future. The current behavior is equivalent to passing `weights=VGG16_Weights.IMAGENET1K_V1`. You can also use `weights=VGG16_Weights.DEFAULT` to get the most up-to-date weights.\n",
            "  warnings.warn(msg)\n"
          ]
        },
        {
          "output_type": "stream",
          "name": "stdout",
          "text": [
            "Epoch [1/10] Training Loss: 0.0181, Training Accuracy: 0.6799, Training Precision: 0.6799, Training Recall: 0.6799, Training F1: 0.6799, Validation Loss: 0.0123, Validation Accuracy: 0.8429, Validation Precision: 0.8432, Validation Recall: 0.8429, Validation F1: 0.8426\n",
            "Epoch [2/10] Training Loss: 0.0107, Training Accuracy: 0.8547, Training Precision: 0.8549, Training Recall: 0.8547, Training F1: 0.8547, Validation Loss: 0.0092, Validation Accuracy: 0.8810, Validation Precision: 0.8809, Validation Recall: 0.8810, Validation F1: 0.8809\n",
            "Epoch [3/10] Training Loss: 0.0045, Training Accuracy: 0.9489, Training Precision: 0.9490, Training Recall: 0.9489, Training F1: 0.9489, Validation Loss: 0.0056, Validation Accuracy: 0.9333, Validation Precision: 0.9341, Validation Recall: 0.9333, Validation F1: 0.9334\n",
            "Epoch [4/10] Training Loss: 0.0023, Training Accuracy: 0.9750, Training Precision: 0.9750, Training Recall: 0.9750, Training F1: 0.9750, Validation Loss: 0.0223, Validation Accuracy: 0.8524, Validation Precision: 0.8789, Validation Recall: 0.8524, Validation F1: 0.8510\n",
            "Epoch [5/10] Training Loss: 0.0029, Training Accuracy: 0.9682, Training Precision: 0.9682, Training Recall: 0.9682, Training F1: 0.9682, Validation Loss: 0.0080, Validation Accuracy: 0.9190, Validation Precision: 0.9195, Validation Recall: 0.9190, Validation F1: 0.9191\n",
            "Epoch [6/10] Training Loss: 0.0004, Training Accuracy: 0.9989, Training Precision: 0.9989, Training Recall: 0.9989, Training F1: 0.9989, Validation Loss: 0.0087, Validation Accuracy: 0.9143, Validation Precision: 0.9145, Validation Recall: 0.9143, Validation F1: 0.9143\n",
            "Epoch [7/10] Training Loss: 0.0001, Training Accuracy: 1.0000, Training Precision: 1.0000, Training Recall: 1.0000, Training F1: 1.0000, Validation Loss: 0.0092, Validation Accuracy: 0.9190, Validation Precision: 0.9195, Validation Recall: 0.9190, Validation F1: 0.9191\n",
            "Epoch [8/10] Training Loss: 0.0001, Training Accuracy: 1.0000, Training Precision: 1.0000, Training Recall: 1.0000, Training F1: 1.0000, Validation Loss: 0.0096, Validation Accuracy: 0.9190, Validation Precision: 0.9195, Validation Recall: 0.9190, Validation F1: 0.9191\n",
            "Epoch [9/10] Training Loss: 0.0000, Training Accuracy: 1.0000, Training Precision: 1.0000, Training Recall: 1.0000, Training F1: 1.0000, Validation Loss: 0.0100, Validation Accuracy: 0.9143, Validation Precision: 0.9145, Validation Recall: 0.9143, Validation F1: 0.9143\n",
            "Epoch [10/10] Training Loss: 0.0000, Training Accuracy: 1.0000, Training Precision: 1.0000, Training Recall: 1.0000, Training F1: 1.0000, Validation Loss: 0.0103, Validation Accuracy: 0.9190, Validation Precision: 0.9191, Validation Recall: 0.9190, Validation F1: 0.9191\n",
            "FOLD 3\n"
          ]
        },
        {
          "output_type": "stream",
          "name": "stderr",
          "text": [
            "/usr/local/lib/python3.10/dist-packages/torchvision/models/_utils.py:208: UserWarning: The parameter 'pretrained' is deprecated since 0.13 and may be removed in the future, please use 'weights' instead.\n",
            "  warnings.warn(\n",
            "/usr/local/lib/python3.10/dist-packages/torchvision/models/_utils.py:223: UserWarning: Arguments other than a weight enum or `None` for 'weights' are deprecated since 0.13 and may be removed in the future. The current behavior is equivalent to passing `weights=VGG16_Weights.IMAGENET1K_V1`. You can also use `weights=VGG16_Weights.DEFAULT` to get the most up-to-date weights.\n",
            "  warnings.warn(msg)\n"
          ]
        },
        {
          "output_type": "stream",
          "name": "stdout",
          "text": [
            "Epoch [1/10] Training Loss: 0.0202, Training Accuracy: 0.6300, Training Precision: 0.6303, Training Recall: 0.6300, Training F1: 0.6295, Validation Loss: 0.0139, Validation Accuracy: 0.8048, Validation Precision: 0.8108, Validation Recall: 0.8048, Validation F1: 0.8047\n",
            "Epoch [2/10] Training Loss: 0.0112, Training Accuracy: 0.8456, Training Precision: 0.8496, Training Recall: 0.8456, Training F1: 0.8453, Validation Loss: 0.0087, Validation Accuracy: 0.9095, Validation Precision: 0.9102, Validation Recall: 0.9095, Validation F1: 0.9093\n",
            "Epoch [3/10] Training Loss: 0.0074, Training Accuracy: 0.9126, Training Precision: 0.9127, Training Recall: 0.9126, Training F1: 0.9126, Validation Loss: 0.0081, Validation Accuracy: 0.9048, Validation Precision: 0.9048, Validation Recall: 0.9048, Validation F1: 0.9047\n",
            "Epoch [4/10] Training Loss: 0.0033, Training Accuracy: 0.9580, Training Precision: 0.9581, Training Recall: 0.9580, Training F1: 0.9580, Validation Loss: 0.0114, Validation Accuracy: 0.9095, Validation Precision: 0.9175, Validation Recall: 0.9095, Validation F1: 0.9087\n",
            "Epoch [5/10] Training Loss: 0.0012, Training Accuracy: 0.9921, Training Precision: 0.9921, Training Recall: 0.9921, Training F1: 0.9921, Validation Loss: 0.0113, Validation Accuracy: 0.9143, Validation Precision: 0.9185, Validation Recall: 0.9143, Validation F1: 0.9143\n",
            "Epoch [6/10] Training Loss: 0.0003, Training Accuracy: 0.9966, Training Precision: 0.9966, Training Recall: 0.9966, Training F1: 0.9966, Validation Loss: 0.0100, Validation Accuracy: 0.9286, Validation Precision: 0.9286, Validation Recall: 0.9286, Validation F1: 0.9286\n",
            "Epoch [7/10] Training Loss: 0.0001, Training Accuracy: 0.9989, Training Precision: 0.9989, Training Recall: 0.9989, Training F1: 0.9989, Validation Loss: 0.0110, Validation Accuracy: 0.9286, Validation Precision: 0.9297, Validation Recall: 0.9286, Validation F1: 0.9286\n",
            "Epoch [8/10] Training Loss: 0.0000, Training Accuracy: 1.0000, Training Precision: 1.0000, Training Recall: 1.0000, Training F1: 1.0000, Validation Loss: 0.0105, Validation Accuracy: 0.9286, Validation Precision: 0.9290, Validation Recall: 0.9286, Validation F1: 0.9286\n",
            "Epoch [9/10] Training Loss: 0.0000, Training Accuracy: 1.0000, Training Precision: 1.0000, Training Recall: 1.0000, Training F1: 1.0000, Validation Loss: 0.0106, Validation Accuracy: 0.9333, Validation Precision: 0.9336, Validation Recall: 0.9333, Validation F1: 0.9334\n",
            "Epoch [10/10] Training Loss: 0.0000, Training Accuracy: 1.0000, Training Precision: 1.0000, Training Recall: 1.0000, Training F1: 1.0000, Validation Loss: 0.0107, Validation Accuracy: 0.9381, Validation Precision: 0.9382, Validation Recall: 0.9381, Validation F1: 0.9381\n",
            "FOLD 4\n"
          ]
        },
        {
          "output_type": "stream",
          "name": "stderr",
          "text": [
            "/usr/local/lib/python3.10/dist-packages/torchvision/models/_utils.py:208: UserWarning: The parameter 'pretrained' is deprecated since 0.13 and may be removed in the future, please use 'weights' instead.\n",
            "  warnings.warn(\n",
            "/usr/local/lib/python3.10/dist-packages/torchvision/models/_utils.py:223: UserWarning: Arguments other than a weight enum or `None` for 'weights' are deprecated since 0.13 and may be removed in the future. The current behavior is equivalent to passing `weights=VGG16_Weights.IMAGENET1K_V1`. You can also use `weights=VGG16_Weights.DEFAULT` to get the most up-to-date weights.\n",
            "  warnings.warn(msg)\n"
          ]
        },
        {
          "output_type": "stream",
          "name": "stdout",
          "text": [
            "Epoch [1/10] Training Loss: 0.0168, Training Accuracy: 0.7287, Training Precision: 0.7307, Training Recall: 0.7287, Training F1: 0.7287, Validation Loss: 0.0188, Validation Accuracy: 0.7524, Validation Precision: 0.8083, Validation Recall: 0.7524, Validation F1: 0.7362\n",
            "Epoch [2/10] Training Loss: 0.0113, Training Accuracy: 0.8309, Training Precision: 0.8405, Training Recall: 0.8309, Training F1: 0.8302, Validation Loss: 0.0113, Validation Accuracy: 0.8857, Validation Precision: 0.8860, Validation Recall: 0.8857, Validation F1: 0.8855\n",
            "Epoch [3/10] Training Loss: 0.0058, Training Accuracy: 0.9342, Training Precision: 0.9352, Training Recall: 0.9342, Training F1: 0.9342, Validation Loss: 0.0159, Validation Accuracy: 0.8048, Validation Precision: 0.8403, Validation Recall: 0.8048, Validation F1: 0.7971\n",
            "Epoch [4/10] Training Loss: 0.0058, Training Accuracy: 0.9342, Training Precision: 0.9348, Training Recall: 0.9342, Training F1: 0.9342, Validation Loss: 0.0102, Validation Accuracy: 0.8810, Validation Precision: 0.8822, Validation Recall: 0.8810, Validation F1: 0.8806\n",
            "Epoch [5/10] Training Loss: 0.0029, Training Accuracy: 0.9671, Training Precision: 0.9672, Training Recall: 0.9671, Training F1: 0.9671, Validation Loss: 0.0089, Validation Accuracy: 0.9000, Validation Precision: 0.9022, Validation Recall: 0.9000, Validation F1: 0.9001\n",
            "Epoch [6/10] Training Loss: 0.0010, Training Accuracy: 0.9898, Training Precision: 0.9898, Training Recall: 0.9898, Training F1: 0.9898, Validation Loss: 0.0075, Validation Accuracy: 0.9143, Validation Precision: 0.9147, Validation Recall: 0.9143, Validation F1: 0.9142\n",
            "Epoch [7/10] Training Loss: 0.0004, Training Accuracy: 0.9989, Training Precision: 0.9989, Training Recall: 0.9989, Training F1: 0.9989, Validation Loss: 0.0077, Validation Accuracy: 0.9190, Validation Precision: 0.9198, Validation Recall: 0.9190, Validation F1: 0.9189\n",
            "Epoch [8/10] Training Loss: 0.0002, Training Accuracy: 1.0000, Training Precision: 1.0000, Training Recall: 1.0000, Training F1: 1.0000, Validation Loss: 0.0080, Validation Accuracy: 0.9238, Validation Precision: 0.9239, Validation Recall: 0.9238, Validation F1: 0.9238\n",
            "Epoch [9/10] Training Loss: 0.0001, Training Accuracy: 1.0000, Training Precision: 1.0000, Training Recall: 1.0000, Training F1: 1.0000, Validation Loss: 0.0085, Validation Accuracy: 0.9238, Validation Precision: 0.9238, Validation Recall: 0.9238, Validation F1: 0.9238\n",
            "Epoch [10/10] Training Loss: 0.0001, Training Accuracy: 1.0000, Training Precision: 1.0000, Training Recall: 1.0000, Training F1: 1.0000, Validation Loss: 0.0087, Validation Accuracy: 0.9286, Validation Precision: 0.9286, Validation Recall: 0.9286, Validation F1: 0.9286\n",
            "FOLD 5\n"
          ]
        },
        {
          "output_type": "stream",
          "name": "stderr",
          "text": [
            "/usr/local/lib/python3.10/dist-packages/torchvision/models/_utils.py:208: UserWarning: The parameter 'pretrained' is deprecated since 0.13 and may be removed in the future, please use 'weights' instead.\n",
            "  warnings.warn(\n",
            "/usr/local/lib/python3.10/dist-packages/torchvision/models/_utils.py:223: UserWarning: Arguments other than a weight enum or `None` for 'weights' are deprecated since 0.13 and may be removed in the future. The current behavior is equivalent to passing `weights=VGG16_Weights.IMAGENET1K_V1`. You can also use `weights=VGG16_Weights.DEFAULT` to get the most up-to-date weights.\n",
            "  warnings.warn(msg)\n"
          ]
        },
        {
          "output_type": "stream",
          "name": "stdout",
          "text": [
            "Epoch [1/10] Training Loss: 0.0172, Training Accuracy: 0.7083, Training Precision: 0.7093, Training Recall: 0.7083, Training F1: 0.7083, Validation Loss: 0.0113, Validation Accuracy: 0.8429, Validation Precision: 0.8493, Validation Recall: 0.8429, Validation F1: 0.8428\n",
            "Epoch [2/10] Training Loss: 0.0088, Training Accuracy: 0.8842, Training Precision: 0.8857, Training Recall: 0.8842, Training F1: 0.8842, Validation Loss: 0.0124, Validation Accuracy: 0.8429, Validation Precision: 0.8729, Validation Recall: 0.8429, Validation F1: 0.8411\n",
            "Epoch [3/10] Training Loss: 0.0050, Training Accuracy: 0.9342, Training Precision: 0.9342, Training Recall: 0.9342, Training F1: 0.9342, Validation Loss: 0.0099, Validation Accuracy: 0.9286, Validation Precision: 0.9286, Validation Recall: 0.9286, Validation F1: 0.9286\n",
            "Epoch [4/10] Training Loss: 0.0018, Training Accuracy: 0.9864, Training Precision: 0.9864, Training Recall: 0.9864, Training F1: 0.9864, Validation Loss: 0.0120, Validation Accuracy: 0.9095, Validation Precision: 0.9117, Validation Recall: 0.9095, Validation F1: 0.9096\n",
            "Epoch [5/10] Training Loss: 0.0028, Training Accuracy: 0.9694, Training Precision: 0.9694, Training Recall: 0.9694, Training F1: 0.9694, Validation Loss: 0.0127, Validation Accuracy: 0.8571, Validation Precision: 0.8574, Validation Recall: 0.8571, Validation F1: 0.8572\n",
            "Epoch [6/10] Training Loss: 0.0015, Training Accuracy: 0.9852, Training Precision: 0.9853, Training Recall: 0.9852, Training F1: 0.9852, Validation Loss: 0.0098, Validation Accuracy: 0.9048, Validation Precision: 0.9048, Validation Recall: 0.9048, Validation F1: 0.9048\n",
            "Epoch [7/10] Training Loss: 0.0003, Training Accuracy: 1.0000, Training Precision: 1.0000, Training Recall: 1.0000, Training F1: 1.0000, Validation Loss: 0.0093, Validation Accuracy: 0.9095, Validation Precision: 0.9096, Validation Recall: 0.9095, Validation F1: 0.9095\n",
            "Epoch [8/10] Training Loss: 0.0002, Training Accuracy: 1.0000, Training Precision: 1.0000, Training Recall: 1.0000, Training F1: 1.0000, Validation Loss: 0.0092, Validation Accuracy: 0.9095, Validation Precision: 0.9096, Validation Recall: 0.9095, Validation F1: 0.9095\n",
            "Epoch [9/10] Training Loss: 0.0001, Training Accuracy: 1.0000, Training Precision: 1.0000, Training Recall: 1.0000, Training F1: 1.0000, Validation Loss: 0.0095, Validation Accuracy: 0.9095, Validation Precision: 0.9096, Validation Recall: 0.9095, Validation F1: 0.9095\n",
            "Epoch [10/10] Training Loss: 0.0001, Training Accuracy: 1.0000, Training Precision: 1.0000, Training Recall: 1.0000, Training F1: 1.0000, Validation Loss: 0.0097, Validation Accuracy: 0.9143, Validation Precision: 0.9145, Validation Recall: 0.9143, Validation F1: 0.9143\n",
            "FOLD 6\n"
          ]
        },
        {
          "output_type": "stream",
          "name": "stderr",
          "text": [
            "/usr/local/lib/python3.10/dist-packages/torchvision/models/_utils.py:208: UserWarning: The parameter 'pretrained' is deprecated since 0.13 and may be removed in the future, please use 'weights' instead.\n",
            "  warnings.warn(\n",
            "/usr/local/lib/python3.10/dist-packages/torchvision/models/_utils.py:223: UserWarning: Arguments other than a weight enum or `None` for 'weights' are deprecated since 0.13 and may be removed in the future. The current behavior is equivalent to passing `weights=VGG16_Weights.IMAGENET1K_V1`. You can also use `weights=VGG16_Weights.DEFAULT` to get the most up-to-date weights.\n",
            "  warnings.warn(msg)\n"
          ]
        },
        {
          "output_type": "stream",
          "name": "stdout",
          "text": [
            "Epoch [1/10] Training Loss: 0.0185, Training Accuracy: 0.6652, Training Precision: 0.6651, Training Recall: 0.6652, Training F1: 0.6650, Validation Loss: 0.0155, Validation Accuracy: 0.8238, Validation Precision: 0.8413, Validation Recall: 0.8238, Validation F1: 0.8200\n",
            "Epoch [2/10] Training Loss: 0.0116, Training Accuracy: 0.8377, Training Precision: 0.8377, Training Recall: 0.8377, Training F1: 0.8377, Validation Loss: 0.0090, Validation Accuracy: 0.8810, Validation Precision: 0.8880, Validation Recall: 0.8810, Validation F1: 0.8798\n",
            "Epoch [3/10] Training Loss: 0.0069, Training Accuracy: 0.9069, Training Precision: 0.9075, Training Recall: 0.9069, Training F1: 0.9069, Validation Loss: 0.0081, Validation Accuracy: 0.9048, Validation Precision: 0.9050, Validation Recall: 0.9048, Validation F1: 0.9048\n",
            "Epoch [4/10] Training Loss: 0.0018, Training Accuracy: 0.9762, Training Precision: 0.9762, Training Recall: 0.9762, Training F1: 0.9762, Validation Loss: 0.0107, Validation Accuracy: 0.9000, Validation Precision: 0.9144, Validation Recall: 0.9000, Validation F1: 0.8997\n",
            "Epoch [5/10] Training Loss: 0.0025, Training Accuracy: 0.9682, Training Precision: 0.9683, Training Recall: 0.9682, Training F1: 0.9682, Validation Loss: 0.0127, Validation Accuracy: 0.8952, Validation Precision: 0.8999, Validation Recall: 0.8952, Validation F1: 0.8945\n",
            "Epoch [6/10] Training Loss: 0.0018, Training Accuracy: 0.9762, Training Precision: 0.9762, Training Recall: 0.9762, Training F1: 0.9762, Validation Loss: 0.0075, Validation Accuracy: 0.9333, Validation Precision: 0.9333, Validation Recall: 0.9333, Validation F1: 0.9333\n",
            "Epoch [7/10] Training Loss: 0.0003, Training Accuracy: 0.9989, Training Precision: 0.9989, Training Recall: 0.9989, Training F1: 0.9989, Validation Loss: 0.0069, Validation Accuracy: 0.9333, Validation Precision: 0.9333, Validation Recall: 0.9333, Validation F1: 0.9333\n",
            "Epoch [8/10] Training Loss: 0.0001, Training Accuracy: 1.0000, Training Precision: 1.0000, Training Recall: 1.0000, Training F1: 1.0000, Validation Loss: 0.0071, Validation Accuracy: 0.9286, Validation Precision: 0.9286, Validation Recall: 0.9286, Validation F1: 0.9286\n",
            "Epoch [9/10] Training Loss: 0.0001, Training Accuracy: 1.0000, Training Precision: 1.0000, Training Recall: 1.0000, Training F1: 1.0000, Validation Loss: 0.0072, Validation Accuracy: 0.9286, Validation Precision: 0.9286, Validation Recall: 0.9286, Validation F1: 0.9286\n",
            "Epoch [10/10] Training Loss: 0.0001, Training Accuracy: 1.0000, Training Precision: 1.0000, Training Recall: 1.0000, Training F1: 1.0000, Validation Loss: 0.0074, Validation Accuracy: 0.9286, Validation Precision: 0.9286, Validation Recall: 0.9286, Validation F1: 0.9286\n",
            "FOLD 7\n"
          ]
        },
        {
          "output_type": "stream",
          "name": "stderr",
          "text": [
            "/usr/local/lib/python3.10/dist-packages/torchvision/models/_utils.py:208: UserWarning: The parameter 'pretrained' is deprecated since 0.13 and may be removed in the future, please use 'weights' instead.\n",
            "  warnings.warn(\n",
            "/usr/local/lib/python3.10/dist-packages/torchvision/models/_utils.py:223: UserWarning: Arguments other than a weight enum or `None` for 'weights' are deprecated since 0.13 and may be removed in the future. The current behavior is equivalent to passing `weights=VGG16_Weights.IMAGENET1K_V1`. You can also use `weights=VGG16_Weights.DEFAULT` to get the most up-to-date weights.\n",
            "  warnings.warn(msg)\n"
          ]
        },
        {
          "output_type": "stream",
          "name": "stdout",
          "text": [
            "Epoch [1/10] Training Loss: 0.0179, Training Accuracy: 0.7060, Training Precision: 0.7085, Training Recall: 0.7060, Training F1: 0.7060, Validation Loss: 0.0139, Validation Accuracy: 0.7905, Validation Precision: 0.7943, Validation Recall: 0.7905, Validation F1: 0.7906\n",
            "Epoch [2/10] Training Loss: 0.0100, Training Accuracy: 0.8502, Training Precision: 0.8530, Training Recall: 0.8502, Training F1: 0.8502, Validation Loss: 0.0097, Validation Accuracy: 0.8905, Validation Precision: 0.8911, Validation Recall: 0.8905, Validation F1: 0.8903\n",
            "Epoch [3/10] Training Loss: 0.0051, Training Accuracy: 0.9342, Training Precision: 0.9350, Training Recall: 0.9342, Training F1: 0.9342, Validation Loss: 0.0092, Validation Accuracy: 0.8905, Validation Precision: 0.8910, Validation Recall: 0.8905, Validation F1: 0.8905\n",
            "Epoch [4/10] Training Loss: 0.0039, Training Accuracy: 0.9580, Training Precision: 0.9580, Training Recall: 0.9580, Training F1: 0.9580, Validation Loss: 0.0154, Validation Accuracy: 0.8381, Validation Precision: 0.8761, Validation Recall: 0.8381, Validation F1: 0.8321\n",
            "Epoch [5/10] Training Loss: 0.0030, Training Accuracy: 0.9637, Training Precision: 0.9639, Training Recall: 0.9637, Training F1: 0.9637, Validation Loss: 0.0104, Validation Accuracy: 0.9048, Validation Precision: 0.9151, Validation Recall: 0.9048, Validation F1: 0.9046\n",
            "Epoch [6/10] Training Loss: 0.0007, Training Accuracy: 0.9909, Training Precision: 0.9910, Training Recall: 0.9909, Training F1: 0.9909, Validation Loss: 0.0073, Validation Accuracy: 0.9333, Validation Precision: 0.9334, Validation Recall: 0.9333, Validation F1: 0.9333\n",
            "Epoch [7/10] Training Loss: 0.0002, Training Accuracy: 1.0000, Training Precision: 1.0000, Training Recall: 1.0000, Training F1: 1.0000, Validation Loss: 0.0072, Validation Accuracy: 0.9333, Validation Precision: 0.9334, Validation Recall: 0.9333, Validation F1: 0.9333\n",
            "Epoch [8/10] Training Loss: 0.0001, Training Accuracy: 1.0000, Training Precision: 1.0000, Training Recall: 1.0000, Training F1: 1.0000, Validation Loss: 0.0073, Validation Accuracy: 0.9333, Validation Precision: 0.9333, Validation Recall: 0.9333, Validation F1: 0.9333\n",
            "Epoch [9/10] Training Loss: 0.0001, Training Accuracy: 1.0000, Training Precision: 1.0000, Training Recall: 1.0000, Training F1: 1.0000, Validation Loss: 0.0077, Validation Accuracy: 0.9381, Validation Precision: 0.9381, Validation Recall: 0.9381, Validation F1: 0.9381\n",
            "Epoch [10/10] Training Loss: 0.0000, Training Accuracy: 1.0000, Training Precision: 1.0000, Training Recall: 1.0000, Training F1: 1.0000, Validation Loss: 0.0080, Validation Accuracy: 0.9381, Validation Precision: 0.9381, Validation Recall: 0.9381, Validation F1: 0.9381\n",
            "FOLD 8\n"
          ]
        },
        {
          "output_type": "stream",
          "name": "stderr",
          "text": [
            "/usr/local/lib/python3.10/dist-packages/torchvision/models/_utils.py:208: UserWarning: The parameter 'pretrained' is deprecated since 0.13 and may be removed in the future, please use 'weights' instead.\n",
            "  warnings.warn(\n",
            "/usr/local/lib/python3.10/dist-packages/torchvision/models/_utils.py:223: UserWarning: Arguments other than a weight enum or `None` for 'weights' are deprecated since 0.13 and may be removed in the future. The current behavior is equivalent to passing `weights=VGG16_Weights.IMAGENET1K_V1`. You can also use `weights=VGG16_Weights.DEFAULT` to get the most up-to-date weights.\n",
            "  warnings.warn(msg)\n"
          ]
        },
        {
          "output_type": "stream",
          "name": "stdout",
          "text": [
            "Epoch [1/10] Training Loss: 0.0165, Training Accuracy: 0.7503, Training Precision: 0.7517, Training Recall: 0.7503, Training F1: 0.7501, Validation Loss: 0.0146, Validation Accuracy: 0.7714, Validation Precision: 0.8140, Validation Recall: 0.7714, Validation F1: 0.7599\n",
            "Epoch [2/10] Training Loss: 0.0092, Training Accuracy: 0.8695, Training Precision: 0.8710, Training Recall: 0.8695, Training F1: 0.8694, Validation Loss: 0.0107, Validation Accuracy: 0.8619, Validation Precision: 0.8705, Validation Recall: 0.8619, Validation F1: 0.8603\n",
            "Epoch [3/10] Training Loss: 0.0040, Training Accuracy: 0.9489, Training Precision: 0.9495, Training Recall: 0.9489, Training F1: 0.9489, Validation Loss: 0.0133, Validation Accuracy: 0.9143, Validation Precision: 0.9159, Validation Recall: 0.9143, Validation F1: 0.9144\n",
            "Epoch [4/10] Training Loss: 0.0033, Training Accuracy: 0.9569, Training Precision: 0.9569, Training Recall: 0.9569, Training F1: 0.9569, Validation Loss: 0.0119, Validation Accuracy: 0.9143, Validation Precision: 0.9143, Validation Recall: 0.9143, Validation F1: 0.9142\n",
            "Epoch [5/10] Training Loss: 0.0024, Training Accuracy: 0.9739, Training Precision: 0.9739, Training Recall: 0.9739, Training F1: 0.9739, Validation Loss: 0.0116, Validation Accuracy: 0.9048, Validation Precision: 0.9067, Validation Recall: 0.9048, Validation F1: 0.9044\n",
            "Epoch [6/10] Training Loss: 0.0007, Training Accuracy: 0.9966, Training Precision: 0.9966, Training Recall: 0.9966, Training F1: 0.9966, Validation Loss: 0.0126, Validation Accuracy: 0.9143, Validation Precision: 0.9147, Validation Recall: 0.9143, Validation F1: 0.9142\n",
            "Epoch [7/10] Training Loss: 0.0002, Training Accuracy: 0.9989, Training Precision: 0.9989, Training Recall: 0.9989, Training F1: 0.9989, Validation Loss: 0.0141, Validation Accuracy: 0.9238, Validation Precision: 0.9238, Validation Recall: 0.9238, Validation F1: 0.9238\n",
            "Epoch [8/10] Training Loss: 0.0001, Training Accuracy: 1.0000, Training Precision: 1.0000, Training Recall: 1.0000, Training F1: 1.0000, Validation Loss: 0.0147, Validation Accuracy: 0.9238, Validation Precision: 0.9243, Validation Recall: 0.9238, Validation F1: 0.9237\n",
            "Epoch [9/10] Training Loss: 0.0000, Training Accuracy: 1.0000, Training Precision: 1.0000, Training Recall: 1.0000, Training F1: 1.0000, Validation Loss: 0.0155, Validation Accuracy: 0.9190, Validation Precision: 0.9198, Validation Recall: 0.9190, Validation F1: 0.9189\n",
            "Epoch [10/10] Training Loss: 0.0000, Training Accuracy: 1.0000, Training Precision: 1.0000, Training Recall: 1.0000, Training F1: 1.0000, Validation Loss: 0.0160, Validation Accuracy: 0.9190, Validation Precision: 0.9198, Validation Recall: 0.9190, Validation F1: 0.9189\n",
            "FOLD 9\n"
          ]
        },
        {
          "output_type": "stream",
          "name": "stderr",
          "text": [
            "/usr/local/lib/python3.10/dist-packages/torchvision/models/_utils.py:208: UserWarning: The parameter 'pretrained' is deprecated since 0.13 and may be removed in the future, please use 'weights' instead.\n",
            "  warnings.warn(\n",
            "/usr/local/lib/python3.10/dist-packages/torchvision/models/_utils.py:223: UserWarning: Arguments other than a weight enum or `None` for 'weights' are deprecated since 0.13 and may be removed in the future. The current behavior is equivalent to passing `weights=VGG16_Weights.IMAGENET1K_V1`. You can also use `weights=VGG16_Weights.DEFAULT` to get the most up-to-date weights.\n",
            "  warnings.warn(msg)\n"
          ]
        },
        {
          "output_type": "stream",
          "name": "stdout",
          "text": [
            "Epoch [1/10] Training Loss: 0.0180, Training Accuracy: 0.7026, Training Precision: 0.7056, Training Recall: 0.7026, Training F1: 0.7022, Validation Loss: 0.0130, Validation Accuracy: 0.8619, Validation Precision: 0.8667, Validation Recall: 0.8619, Validation F1: 0.8619\n",
            "Epoch [2/10] Training Loss: 0.0102, Training Accuracy: 0.8456, Training Precision: 0.8477, Training Recall: 0.8456, Training F1: 0.8456, Validation Loss: 0.0117, Validation Accuracy: 0.8143, Validation Precision: 0.8611, Validation Recall: 0.8143, Validation F1: 0.8103\n",
            "Epoch [3/10] Training Loss: 0.0057, Training Accuracy: 0.9274, Training Precision: 0.9274, Training Recall: 0.9274, Training F1: 0.9274, Validation Loss: 0.0076, Validation Accuracy: 0.9333, Validation Precision: 0.9345, Validation Recall: 0.9333, Validation F1: 0.9332\n",
            "Epoch [4/10] Training Loss: 0.0041, Training Accuracy: 0.9569, Training Precision: 0.9570, Training Recall: 0.9569, Training F1: 0.9569, Validation Loss: 0.0095, Validation Accuracy: 0.8476, Validation Precision: 0.8593, Validation Recall: 0.8476, Validation F1: 0.8454\n",
            "Epoch [5/10] Training Loss: 0.0044, Training Accuracy: 0.9421, Training Precision: 0.9424, Training Recall: 0.9421, Training F1: 0.9421, Validation Loss: 0.0146, Validation Accuracy: 0.8667, Validation Precision: 0.8764, Validation Recall: 0.8667, Validation F1: 0.8665\n",
            "Epoch [6/10] Training Loss: 0.0012, Training Accuracy: 0.9886, Training Precision: 0.9886, Training Recall: 0.9886, Training F1: 0.9886, Validation Loss: 0.0076, Validation Accuracy: 0.9286, Validation Precision: 0.9288, Validation Recall: 0.9286, Validation F1: 0.9285\n",
            "Epoch [7/10] Training Loss: 0.0003, Training Accuracy: 0.9977, Training Precision: 0.9977, Training Recall: 0.9977, Training F1: 0.9977, Validation Loss: 0.0080, Validation Accuracy: 0.9429, Validation Precision: 0.9429, Validation Recall: 0.9429, Validation F1: 0.9429\n",
            "Epoch [8/10] Training Loss: 0.0002, Training Accuracy: 1.0000, Training Precision: 1.0000, Training Recall: 1.0000, Training F1: 1.0000, Validation Loss: 0.0085, Validation Accuracy: 0.9476, Validation Precision: 0.9477, Validation Recall: 0.9476, Validation F1: 0.9476\n",
            "Epoch [9/10] Training Loss: 0.0001, Training Accuracy: 1.0000, Training Precision: 1.0000, Training Recall: 1.0000, Training F1: 1.0000, Validation Loss: 0.0089, Validation Accuracy: 0.9476, Validation Precision: 0.9477, Validation Recall: 0.9476, Validation F1: 0.9476\n",
            "Epoch [10/10] Training Loss: 0.0001, Training Accuracy: 1.0000, Training Precision: 1.0000, Training Recall: 1.0000, Training F1: 1.0000, Validation Loss: 0.0094, Validation Accuracy: 0.9476, Validation Precision: 0.9477, Validation Recall: 0.9476, Validation F1: 0.9476\n",
            "FOLD 10\n"
          ]
        },
        {
          "output_type": "stream",
          "name": "stderr",
          "text": [
            "/usr/local/lib/python3.10/dist-packages/torchvision/models/_utils.py:208: UserWarning: The parameter 'pretrained' is deprecated since 0.13 and may be removed in the future, please use 'weights' instead.\n",
            "  warnings.warn(\n",
            "/usr/local/lib/python3.10/dist-packages/torchvision/models/_utils.py:223: UserWarning: Arguments other than a weight enum or `None` for 'weights' are deprecated since 0.13 and may be removed in the future. The current behavior is equivalent to passing `weights=VGG16_Weights.IMAGENET1K_V1`. You can also use `weights=VGG16_Weights.DEFAULT` to get the most up-to-date weights.\n",
            "  warnings.warn(msg)\n"
          ]
        },
        {
          "output_type": "stream",
          "name": "stdout",
          "text": [
            "Epoch [1/10] Training Loss: 0.0176, Training Accuracy: 0.7143, Training Precision: 0.7141, Training Recall: 0.7143, Training F1: 0.7141, Validation Loss: 0.0140, Validation Accuracy: 0.8000, Validation Precision: 0.8069, Validation Recall: 0.8000, Validation F1: 0.7999\n",
            "Epoch [2/10] Training Loss: 0.0099, Training Accuracy: 0.8537, Training Precision: 0.8568, Training Recall: 0.8537, Training F1: 0.8538, Validation Loss: 0.0094, Validation Accuracy: 0.8810, Validation Precision: 0.8809, Validation Recall: 0.8810, Validation F1: 0.8809\n",
            "Epoch [3/10] Training Loss: 0.0037, Training Accuracy: 0.9535, Training Precision: 0.9535, Training Recall: 0.9535, Training F1: 0.9535, Validation Loss: 0.0122, Validation Accuracy: 0.9143, Validation Precision: 0.9203, Validation Recall: 0.9143, Validation F1: 0.9143\n",
            "Epoch [4/10] Training Loss: 0.0021, Training Accuracy: 0.9751, Training Precision: 0.9751, Training Recall: 0.9751, Training F1: 0.9751, Validation Loss: 0.0168, Validation Accuracy: 0.8857, Validation Precision: 0.8993, Validation Recall: 0.8857, Validation F1: 0.8840\n",
            "Epoch [5/10] Training Loss: 0.0025, Training Accuracy: 0.9717, Training Precision: 0.9717, Training Recall: 0.9717, Training F1: 0.9717, Validation Loss: 0.0115, Validation Accuracy: 0.9190, Validation Precision: 0.9193, Validation Recall: 0.9190, Validation F1: 0.9190\n",
            "Epoch [6/10] Training Loss: 0.0009, Training Accuracy: 0.9932, Training Precision: 0.9932, Training Recall: 0.9932, Training F1: 0.9932, Validation Loss: 0.0118, Validation Accuracy: 0.9238, Validation Precision: 0.9238, Validation Recall: 0.9238, Validation F1: 0.9238\n",
            "Epoch [7/10] Training Loss: 0.0002, Training Accuracy: 0.9989, Training Precision: 0.9989, Training Recall: 0.9989, Training F1: 0.9989, Validation Loss: 0.0120, Validation Accuracy: 0.9286, Validation Precision: 0.9286, Validation Recall: 0.9286, Validation F1: 0.9286\n",
            "Epoch [8/10] Training Loss: 0.0001, Training Accuracy: 1.0000, Training Precision: 1.0000, Training Recall: 1.0000, Training F1: 1.0000, Validation Loss: 0.0126, Validation Accuracy: 0.9286, Validation Precision: 0.9290, Validation Recall: 0.9286, Validation F1: 0.9286\n",
            "Epoch [9/10] Training Loss: 0.0001, Training Accuracy: 1.0000, Training Precision: 1.0000, Training Recall: 1.0000, Training F1: 1.0000, Validation Loss: 0.0131, Validation Accuracy: 0.9286, Validation Precision: 0.9290, Validation Recall: 0.9286, Validation F1: 0.9286\n",
            "Epoch [10/10] Training Loss: 0.0000, Training Accuracy: 1.0000, Training Precision: 1.0000, Training Recall: 1.0000, Training F1: 1.0000, Validation Loss: 0.0135, Validation Accuracy: 0.9286, Validation Precision: 0.9290, Validation Recall: 0.9286, Validation F1: 0.9286\n"
          ]
        },
        {
          "output_type": "display_data",
          "data": {
            "text/plain": [
              "<Figure size 2000x400 with 4 Axes>"
            ],
            "image/png": "[encoded data removed]"
          },
          "metadata": {}
        }
      ],
      "source": [
        "import os\n",
        "import torch\n",
        "import torchvision\n",
        "import numpy as np\n",
        "import matplotlib.pyplot as plt\n",
        "from torchvision.datasets import ImageFolder\n",
        "from torchvision.transforms import (ToTensor, Resize, RandomResizedCrop, RandomRotation,\n",
        "                                   RandomHorizontalFlip, RandomVerticalFlip, ColorJitter)\n",
        "from sklearn.model_selection import KFold\n",
        "from torch.utils.data import DataLoader, random_split, Subset\n",
        "from torch import nn, optim\n",
        "from torch.optim.lr_scheduler import StepLR\n",
        "from sklearn.metrics import precision_recall_fscore_support\n",
        "\n",
        "!cp -r \"/content/drive/MyDrive/combined_dataset\" \"/content/combined_dataset\"\n",
        "\n",
        "\n",
        "# Path to your dataset\n",
        "data_dir = '/content/drive/MyDrive/combined_dataset'\n",
        "\n",
        "# Parameters\n",
        "image_size = (224, 224)\n",
        "batch_size = 32\n",
        "num_epochs = 10\n",
        "num_folds = 10\n",
        "\n",
        "# Transforms\n",
        "train_transform = torchvision.transforms.Compose([\n",
        "    RandomResizedCrop(image_size),\n",
        "    RandomRotation(15),\n",
        "    RandomHorizontalFlip(),\n",
        "    RandomVerticalFlip(),\n",
        "    ColorJitter(brightness=0.2, contrast=0.2, saturation=0.2, hue=0.1),\n",
        "    ToTensor()\n",
        "])\n",
        "\n",
        "val_test_transform = torchvision.transforms.Compose([\n",
        "    Resize(image_size, antialias=True),\n",
        "    ToTensor()\n",
        "])\n",
        "\n",
        "# Loading the full dataset with train transform\n",
        "full_dataset = ImageFolder(data_dir, transform=train_transform)\n",
        "num_classes = len(full_dataset.classes)\n",
        "\n",
        "# Splitting the dataset into training, validation, and test sets (let's say 70%, 15%, 15%)\n",
        "train_size = int(0.7 * len(full_dataset))\n",
        "validation_size = (len(full_dataset) - train_size) // 2\n",
        "test_size = len(full_dataset) - train_size - validation_size\n",
        "train_dataset, validation_dataset, test_dataset = torch.utils.data.random_split(full_dataset, [train_size, validation_size, test_size])\n",
        "\n",
        "# Apply the validation and test transforms to the respective splits\n",
        "validation_dataset.dataset.transform = val_test_transform\n",
        "test_dataset.dataset.transform = val_test_transform\n",
        "\n",
        "# Data loaders\n",
        "train_loader = DataLoader(train_dataset, batch_size=batch_size, shuffle=True)\n",
        "val_loader = DataLoader(validation_dataset, batch_size=batch_size, shuffle=False)\n",
        "test_loader = DataLoader(test_dataset, batch_size=batch_size, shuffle=False)\n",
        "\n",
        "\n",
        "device = torch.device(\"cuda\" if torch.cuda.is_available() else \"cpu\")\n",
        "num_classes = len(full_dataset.classes)\n",
        "\n",
        "kfold = KFold(n_splits=num_folds, shuffle=True)\n",
        "fold_results = []\n",
        "\n",
        "for fold, (train_ids, _) in enumerate(kfold.split(train_dataset)):\n",
        "    print(f\"FOLD {fold + 1}\")\n",
        "\n",
        "    train_subsampler = Subset(train_dataset, train_ids)\n",
        "    train_loader = DataLoader(train_subsampler, batch_size=batch_size, shuffle=True)\n",
        "\n",
        "    # Using VGG-16 with Dropout\n",
        "    model = torchvision.models.vgg16(pretrained=True)\n",
        "    model.classifier[2] = nn.Dropout(0.5) # Adding dropout to the default VGG classifier\n",
        "    model.classifier[6] = torch.nn.Linear(model.classifier[6].in_features, num_classes)\n",
        "    optimizer = torch.optim.AdamW(model.parameters(), lr=0.0001, weight_decay=0.0001)\n",
        "    scheduler = StepLR(optimizer, step_size=5, gamma=0.1) # example values for step_size and gamma\n",
        "\n",
        "    model.to(device)\n",
        "\n",
        "    train_acc_list, val_acc_list, train_loss_list, val_loss_list = [], [], [], []\n",
        "    train_prec_list, train_recall_list, train_f1_list = [], [], []\n",
        "    val_prec_list, val_recall_list, val_f1_list = [], [], []\n",
        "\n",
        "    for epoch in range(num_epochs):\n",
        "        # Training\n",
        "        model.train()\n",
        "        train_loss, train_correct = 0.0, 0\n",
        "        all_labels, all_preds = [], []\n",
        "        for images, labels in train_loader:\n",
        "            images, labels = images.to(device), labels.to(device)\n",
        "            optimizer.zero_grad()\n",
        "            outputs = model(images)\n",
        "            loss = nn.CrossEntropyLoss()(outputs, labels)\n",
        "            loss.backward()\n",
        "            optimizer.step()\n",
        "            train_loss += loss.item()\n",
        "            preds = torch.argmax(outputs, dim=1)\n",
        "            train_correct += (preds == labels).sum().item()\n",
        "            all_labels.extend(labels.cpu().numpy())\n",
        "            all_preds.extend(preds.cpu().numpy())\n",
        "        scheduler.step()\n",
        "\n",
        "        avg_train_loss = train_loss / len(train_loader.dataset)\n",
        "        avg_train_accuracy = train_correct / len(train_loader.dataset)\n",
        "        train_precision, train_recall, train_f1, _ = precision_recall_fscore_support(all_labels, all_preds, average='weighted', zero_division=1)\n",
        "\n",
        "        # Validation\n",
        "        model.eval()\n",
        "        val_loss, val_correct = 0.0, 0\n",
        "        all_labels, all_preds = [], []\n",
        "        with torch.no_grad():\n",
        "            for images, labels in val_loader:\n",
        "                images, labels = images.to(device), labels.to(device)\n",
        "                outputs = model(images)\n",
        "                loss = nn.CrossEntropyLoss()(outputs, labels)\n",
        "                val_loss += loss.item()\n",
        "                preds = torch.argmax(outputs, dim=1)\n",
        "                val_correct += (preds == labels).sum().item()\n",
        "                all_labels.extend(labels.cpu().numpy())\n",
        "                all_preds.extend(preds.cpu().numpy())\n",
        "\n",
        "        avg_val_loss = val_loss / len(val_loader.dataset)\n",
        "        avg_val_accuracy = val_correct / len(val_loader.dataset)\n",
        "        val_precision, val_recall, val_f1, _ = precision_recall_fscore_support(all_labels, all_preds, average='weighted', zero_division=1)\n",
        "\n",
        "        print(f\"Epoch [{epoch+1}/{num_epochs}] Training Loss: {avg_train_loss:.4f}, Training Accuracy: {avg_train_accuracy:.4f}, Training Precision: {train_precision:.4f}, Training Recall: {train_recall:.4f}, Training F1: {train_f1:.4f}, Validation Loss: {avg_val_loss:.4f}, Validation Accuracy: {avg_val_accuracy:.4f}, Validation Precision: {val_precision:.4f}, Validation Recall: {val_recall:.4f}, Validation F1: {val_f1:.4f}\")\n",
        "\n",
        "        train_acc_list.append(avg_train_accuracy)\n",
        "        val_acc_list.append(avg_val_accuracy)\n",
        "        train_loss_list.append(avg_train_loss)\n",
        "        val_loss_list.append(avg_val_loss)\n",
        "        train_prec_list.append(train_precision)\n",
        "        train_recall_list.append(train_recall)\n",
        "        train_f1_list.append(train_f1)\n",
        "        val_prec_list.append(val_precision)\n",
        "        val_recall_list.append(val_recall)\n",
        "        val_f1_list.append(val_f1)\n",
        "\n",
        "    fold_results.append({\n",
        "        'train_acc': train_acc_list,\n",
        "        'val_acc': val_acc_list,\n",
        "        'train_loss': train_loss_list,\n",
        "        'val_loss': val_loss_list,\n",
        "        'train_prec': train_prec_list,\n",
        "        'val_prec': val_prec_list,\n",
        "        'train_recall': train_recall_list,\n",
        "        'val_recall': val_recall_list,\n",
        "        'train_f1': train_f1_list,\n",
        "        'val_f1': val_f1_list\n",
        "    })\n",
        "\n",
        "# Compute averages over all folds\n",
        "avg_train_acc = np.mean([result['train_acc'] for result in fold_results], axis=0)\n",
        "avg_val_acc = np.mean([result['val_acc'] for result in fold_results], axis=0)\n",
        "avg_train_loss = np.mean([result['train_loss'] for result in fold_results], axis=0)\n",
        "avg_val_loss = np.mean([result['val_loss'] for result in fold_results], axis=0)\n",
        "avg_train_prec = np.mean([result['train_prec'] for result in fold_results], axis=0)\n",
        "avg_val_prec = np.mean([result['val_prec'] for result in fold_results], axis=0)\n",
        "avg_train_recall = np.mean([result['train_recall'] for result in fold_results], axis=0)\n",
        "avg_val_recall = np.mean([result['val_recall'] for result in fold_results], axis=0)\n",
        "avg_train_f1 = np.mean([result['train_f1'] for result in fold_results], axis=0)\n",
        "avg_val_f1 = np.mean([result['val_f1'] for result in fold_results], axis=0)\n",
        "\n",
        "# Plotting the average metrics\n",
        "plt.figure(figsize=(20, 4))\n",
        "\n",
        "plt.subplot(1, 4, 1)\n",
        "plt.plot(range(num_epochs), avg_train_acc, label='Training')\n",
        "plt.plot(range(num_epochs), avg_val_acc, label='Validation')\n",
        "plt.xlabel('Epochs')\n",
        "plt.ylabel('Accuracy')\n",
        "plt.legend()\n",
        "\n",
        "plt.subplot(1, 4, 2)\n",
        "plt.plot(range(num_epochs), avg_train_loss, label='Training')\n",
        "plt.plot(range(num_epochs), avg_val_loss, label='Validation')\n",
        "plt.xlabel('Epochs')\n",
        "plt.ylabel('Loss')\n",
        "plt.legend()\n",
        "\n",
        "plt.subplot(1, 4, 3)\n",
        "plt.plot(range(num_epochs), avg_train_prec, label='Training')\n",
        "plt.plot(range(num_epochs), avg_val_prec, label='Validation')\n",
        "plt.xlabel('Epochs')\n",
        "plt.ylabel('Precision')\n",
        "plt.legend()\n",
        "\n",
        "plt.subplot(1, 4, 4)\n",
        "plt.plot(range(num_epochs), avg_train_recall, label='Training')\n",
        "plt.plot(range(num_epochs), avg_val_recall, label='Validation')\n",
        "plt.xlabel('Epochs')\n",
        "plt.ylabel('Recall')\n",
        "plt.legend()\n",
        "\n",
        "plt.tight_layout()\n",
        "plt.show()\n"
      ]
    },
    {
      "cell_type": "code",
      "source": [],
      "metadata": {
        "id": "nPK1Zea3VbhE"
      },
      "execution_count": null,
      "outputs": []
    },
    {
      "cell_type": "markdown",
      "metadata": {
        "id": "qdBB4FD0SL7D"
      },
      "source": [
        "import matplotlib.pyplot as plt\n",
        "\n",
        "# Initialize lists to store values\n",
        "train_losses = []\n",
        "train_accuracies = []\n",
        "test_losses = []\n",
        "test_accuracies = []\n",
        "\n",
        "# Train the model\n",
        "for epoch in range(num_epochs):\n",
        "    train_loss = 0.0\n",
        "    train_correct = 0\n",
        "    \n",
        "    # Training code...\n",
        "\n",
        "    # Calculate train accuracy and append to list\n",
        "    train_accuracy = train_correct / len(train_dataset)\n",
        "    train_accuracies.append(train_accuracy)\n",
        "\n",
        "    # Evaluate on the test set\n",
        "    model.eval()\n",
        "    test_loss = 0.0\n",
        "    test_correct = 0\n",
        "    \n",
        "    # Testing code...\n",
        "    \n",
        "    # Calculate test accuracy and append to list\n",
        "    test_accuracy = test_correct / len(test_dataset)\n",
        "    test_accuracies.append(test_accuracy)\n",
        "\n",
        "    # Append train and test losses to lists\n",
        "    train_losses.append(train_loss)\n",
        "    test_losses.append(test_loss)\n",
        "\n",
        "# Plotting the tables\n",
        "epochs = range(1, num_epochs + 1)\n",
        "\n",
        "# Plot train and test losses\n",
        "plt.plot(epochs, train_losses, label='Train Loss')\n",
        "plt.plot(epochs, test_losses, label='Test Loss')\n",
        "plt.xlabel('Epochs')\n",
        "plt.ylabel('Loss')\n",
        "plt.title('Training and Test Loss')\n",
        "plt.legend()\n",
        "plt.show()\n",
        "\n",
        "# Plot train and test accuracies\n",
        "plt.plot(epochs, train_accuracies, label='Train Accuracy')\n",
        "plt.plot(epochs, test_accuracies, label='Test Accuracy')\n",
        "plt.xlabel('Epochs')\n",
        "plt.ylabel('Accuracy')\n",
        "plt.title('Training and Test Accuracy')\n",
        "plt.legend()\n",
        "plt.show()\n"
      ]
    }
  ],
  "metadata": {
    "accelerator": "GPU",
    "colab": {
      "provenance": [],
      "machine_shape": "hm",
      "gpuType": "T4"
    },
    "kernelspec": {
      "display_name": "Python 3",
      "name": "python3"
    },
    "language_info": {
      "name": "python"
    }
  },
  "nbformat": 4,
  "nbformat_minor": 0
}